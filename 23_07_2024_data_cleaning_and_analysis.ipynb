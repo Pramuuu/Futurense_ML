{
  "nbformat": 4,
  "nbformat_minor": 0,
  "metadata": {
    "colab": {
      "provenance": [],
      "authorship_tag": "ABX9TyMih8fPeqFZ5ntpF59Hp8kZ",
      "include_colab_link": true
    },
    "kernelspec": {
      "name": "python3",
      "display_name": "Python 3"
    },
    "language_info": {
      "name": "python"
    }
  },
  "cells": [
    {
      "cell_type": "markdown",
      "metadata": {
        "id": "view-in-github",
        "colab_type": "text"
      },
      "source": [
        "<a href=\"https://colab.research.google.com/github/Pramuuu/Futurense_ML/blob/main/23_07_2024_data_cleaning_and_analysis.ipynb\" target=\"_parent\"><img src=\"https://colab.research.google.com/assets/colab-badge.svg\" alt=\"Open In Colab\"/></a>"
      ]
    },
    {
      "cell_type": "code",
      "source": [
        "\n",
        "# importing requirement libraries\n",
        "import pandas as pd\n",
        "import numpy as np\n",
        "import matplotlib.pyplot as plt\n",
        "import seaborn as sns\n",
        "import itertools\n",
        "import plotly.express as px\n",
        "import plotly.graph_objects as go\n",
        "import plotly.io as pio\n",
        "from plotly.subplots import make_subplots\n",
        "\n",
        "# for solving problem of show plotly plots\n",
        "from plotly.offline import init_notebook_mode\n",
        "init_notebook_mode(connected=True)\n",
        "# Optional\n",
        "# for filter warnings\n",
        "import warnings\n",
        "warnings.filterwarnings('ignore')\n",
        "# for better plot visualization\n",
        "plt.style.use('_mpl-gallery')\n",
        "FONT = {'fontsize':20, 'fontstyle':'normal', 'fontfamily':'Times New Roman', 'backgroundcolor':'#145A32', 'color':'orange'} # for plot title\n"
      ],
      "metadata": {
        "id": "G0vbrTpj7VZa",
        "colab": {
          "base_uri": "https://localhost:8080/",
          "height": 17
        },
        "outputId": "b80747be-e366-4539-b6c3-706e3a261c93"
      },
      "execution_count": null,
      "outputs": [
        {
          "output_type": "display_data",
          "data": {
            "text/html": [
              "        <script type=\"text/javascript\">\n",
              "        window.PlotlyConfig = {MathJaxConfig: 'local'};\n",
              "        if (window.MathJax && window.MathJax.Hub && window.MathJax.Hub.Config) {window.MathJax.Hub.Config({SVG: {font: \"STIX-Web\"}});}\n",
              "        if (typeof require !== 'undefined') {\n",
              "        require.undef(\"plotly\");\n",
              "        requirejs.config({\n",
              "            paths: {\n",
              "                'plotly': ['https://cdn.plot.ly/plotly-2.24.1.min']\n",
              "            }\n",
              "        });\n",
              "        require(['plotly'], function(Plotly) {\n",
              "            window._Plotly = Plotly;\n",
              "        });\n",
              "        }\n",
              "        </script>\n",
              "        "
            ]
          },
          "metadata": {}
        }
      ]
    },
    {
      "cell_type": "code",
      "source": [
        "\n",
        "# importing requirement sklearn functions\n",
        "from sklearn.preprocessing import StandardScaler, MinMaxScaler\n",
        "from sklearn.pipeline import Pipeline\n",
        "from sklearn.model_selection import KFold, cross_val_score, train_test_split, GridSearchCV, StratifiedKFold\n",
        "from sklearn.linear_model import LogisticRegression\n",
        "from sklearn.naive_bayes import MultinomialNB, ComplementNB, BernoulliNB, CategoricalNB\n",
        "from sklearn.neighbors import KNeighborsClassifier\n",
        "from sklearn.tree import DecisionTreeClassifier\n",
        "from sklearn import tree\n",
        "from sklearn.ensemble import RandomForestClassifier\n",
        "from sklearn.metrics import roc_curve, auc, accuracy_score, precision_score, recall_score, f1_score, confusion_matrix, classification_report, jaccard_score, log_loss\n"
      ],
      "metadata": {
        "id": "XH5v0YmcbXNA"
      },
      "execution_count": null,
      "outputs": []
    },
    {
      "cell_type": "code",
      "source": [
        "data = pd.read_excel('/content/campaign_performance.xlsx')\n",
        "df = pd.DataFrame(data)\n",
        "df"
      ],
      "metadata": {
        "colab": {
          "base_uri": "https://localhost:8080/",
          "height": 704
        },
        "id": "aqHY4qDAbclT",
        "outputId": "7d998117-16dc-45ab-bcec-8f601d59635c"
      },
      "execution_count": null,
      "outputs": [
        {
          "output_type": "execute_result",
          "data": {
            "text/plain": [
              "           dates                        campaign_name campaign_start_date  \\\n",
              "0     2024-04-29           USP_Search_APTNTSKA_250124                 NaT   \n",
              "1     2024-05-02  USP_2_Lead-gen-2_Top4-states_050424                 NaT   \n",
              "2     2024-05-02  USP_2_Lead-gen-2_Top4-states_050424                 NaT   \n",
              "3     2024-05-02  USP_2_Lead-gen-2_Top4-states_050424                 NaT   \n",
              "4     2024-05-02  USP_2_Lead-gen-2_Top4-states_050424                 NaT   \n",
              "...          ...                                  ...                 ...   \n",
              "28529 2024-03-12        USP_MS + Coop Campaign_240224                 NaT   \n",
              "28530 2024-03-12        USP_MS + Coop Campaign_240224                 NaT   \n",
              "28531 2024-03-12      USP Study Abroad_Generic_240224                 NaT   \n",
              "28532 2024-03-12      USP Study Abroad_Generic_240224                 NaT   \n",
              "28533 2024-03-12      USP Study Abroad_Generic_240224                 NaT   \n",
              "\n",
              "                           creative_name  total_spent  impressions  clicks  \\\n",
              "0                                     --      6766.15         1250     220   \n",
              "1       #7 ( Graphic ) - Get A Free Pass       946.38         3154       9   \n",
              "2               USP_S3_never-been-easier       170.40         2695       8   \n",
              "3                     USP_S4_Do-you-have        55.65          577       2   \n",
              "4                    USP_S1_We-guarantee       296.94         1466      10   \n",
              "...                                  ...          ...          ...     ...   \n",
              "28529                    USP_RG_VideoAd5        67.18          268       1   \n",
              "28530                    USP_RG_VideoAd5        50.65           75       1   \n",
              "28531  USP_Webinar_Saturdayfuture - Copy        11.34           28       0   \n",
              "28532  USP_Webinar_Saturdayfuture - Copy       136.97          134       0   \n",
              "28533         USP_Webinar_Saturdayfuture       242.59           24       0   \n",
              "\n",
              "       click_through_rate  leads  platform  \\\n",
              "0                0.176000   25.0    Google   \n",
              "1                0.285352    1.0  Facebook   \n",
              "2                0.296846    0.0  Facebook   \n",
              "3                0.346620    0.0  Facebook   \n",
              "4                0.682128    1.0  Facebook   \n",
              "...                   ...    ...       ...   \n",
              "28529            0.373134    0.0  Facebook   \n",
              "28530            1.333333    0.0  Facebook   \n",
              "28531            0.000000    0.0  Facebook   \n",
              "28532            0.000000    0.0  Facebook   \n",
              "28533            0.000000    0.0  Facebook   \n",
              "\n",
              "                                  adset_name  \n",
              "0                                   GMAT/GRE  \n",
              "1                         USP-2_KA_TN_050424  \n",
              "2                         USP-2_KA_TN_050424  \n",
              "3                         USP-2_KA_TN_050424  \n",
              "4                         USP-2_AP_TS_050424  \n",
              "...                                      ...  \n",
              "28529        MS + Coop KA&TN Ad set - 240224  \n",
              "28530    MS + Coop All India Ad set - 240224  \n",
              "28531      AP&TS Generic Leads Ad Set_240224  \n",
              "28532      KA&TN Generic Leads Ad Set_240224  \n",
              "28533  All India Generic Leads Ad Set_240224  \n",
              "\n",
              "[28534 rows x 11 columns]"
            ],
            "text/html": [
              "\n",
              "  <div id=\"df-71cc9e38-46fb-4562-b56a-d4c80afaa4c5\" class=\"colab-df-container\">\n",
              "    <div>\n",
              "<style scoped>\n",
              "    .dataframe tbody tr th:only-of-type {\n",
              "        vertical-align: middle;\n",
              "    }\n",
              "\n",
              "    .dataframe tbody tr th {\n",
              "        vertical-align: top;\n",
              "    }\n",
              "\n",
              "    .dataframe thead th {\n",
              "        text-align: right;\n",
              "    }\n",
              "</style>\n",
              "<table border=\"1\" class=\"dataframe\">\n",
              "  <thead>\n",
              "    <tr style=\"text-align: right;\">\n",
              "      <th></th>\n",
              "      <th>dates</th>\n",
              "      <th>campaign_name</th>\n",
              "      <th>campaign_start_date</th>\n",
              "      <th>creative_name</th>\n",
              "      <th>total_spent</th>\n",
              "      <th>impressions</th>\n",
              "      <th>clicks</th>\n",
              "      <th>click_through_rate</th>\n",
              "      <th>leads</th>\n",
              "      <th>platform</th>\n",
              "      <th>adset_name</th>\n",
              "    </tr>\n",
              "  </thead>\n",
              "  <tbody>\n",
              "    <tr>\n",
              "      <th>0</th>\n",
              "      <td>2024-04-29</td>\n",
              "      <td>USP_Search_APTNTSKA_250124</td>\n",
              "      <td>NaT</td>\n",
              "      <td>--</td>\n",
              "      <td>6766.15</td>\n",
              "      <td>1250</td>\n",
              "      <td>220</td>\n",
              "      <td>0.176000</td>\n",
              "      <td>25.0</td>\n",
              "      <td>Google</td>\n",
              "      <td>GMAT/GRE</td>\n",
              "    </tr>\n",
              "    <tr>\n",
              "      <th>1</th>\n",
              "      <td>2024-05-02</td>\n",
              "      <td>USP_2_Lead-gen-2_Top4-states_050424</td>\n",
              "      <td>NaT</td>\n",
              "      <td>#7 ( Graphic ) - Get A Free Pass</td>\n",
              "      <td>946.38</td>\n",
              "      <td>3154</td>\n",
              "      <td>9</td>\n",
              "      <td>0.285352</td>\n",
              "      <td>1.0</td>\n",
              "      <td>Facebook</td>\n",
              "      <td>USP-2_KA_TN_050424</td>\n",
              "    </tr>\n",
              "    <tr>\n",
              "      <th>2</th>\n",
              "      <td>2024-05-02</td>\n",
              "      <td>USP_2_Lead-gen-2_Top4-states_050424</td>\n",
              "      <td>NaT</td>\n",
              "      <td>USP_S3_never-been-easier</td>\n",
              "      <td>170.40</td>\n",
              "      <td>2695</td>\n",
              "      <td>8</td>\n",
              "      <td>0.296846</td>\n",
              "      <td>0.0</td>\n",
              "      <td>Facebook</td>\n",
              "      <td>USP-2_KA_TN_050424</td>\n",
              "    </tr>\n",
              "    <tr>\n",
              "      <th>3</th>\n",
              "      <td>2024-05-02</td>\n",
              "      <td>USP_2_Lead-gen-2_Top4-states_050424</td>\n",
              "      <td>NaT</td>\n",
              "      <td>USP_S4_Do-you-have</td>\n",
              "      <td>55.65</td>\n",
              "      <td>577</td>\n",
              "      <td>2</td>\n",
              "      <td>0.346620</td>\n",
              "      <td>0.0</td>\n",
              "      <td>Facebook</td>\n",
              "      <td>USP-2_KA_TN_050424</td>\n",
              "    </tr>\n",
              "    <tr>\n",
              "      <th>4</th>\n",
              "      <td>2024-05-02</td>\n",
              "      <td>USP_2_Lead-gen-2_Top4-states_050424</td>\n",
              "      <td>NaT</td>\n",
              "      <td>USP_S1_We-guarantee</td>\n",
              "      <td>296.94</td>\n",
              "      <td>1466</td>\n",
              "      <td>10</td>\n",
              "      <td>0.682128</td>\n",
              "      <td>1.0</td>\n",
              "      <td>Facebook</td>\n",
              "      <td>USP-2_AP_TS_050424</td>\n",
              "    </tr>\n",
              "    <tr>\n",
              "      <th>...</th>\n",
              "      <td>...</td>\n",
              "      <td>...</td>\n",
              "      <td>...</td>\n",
              "      <td>...</td>\n",
              "      <td>...</td>\n",
              "      <td>...</td>\n",
              "      <td>...</td>\n",
              "      <td>...</td>\n",
              "      <td>...</td>\n",
              "      <td>...</td>\n",
              "      <td>...</td>\n",
              "    </tr>\n",
              "    <tr>\n",
              "      <th>28529</th>\n",
              "      <td>2024-03-12</td>\n",
              "      <td>USP_MS + Coop Campaign_240224</td>\n",
              "      <td>NaT</td>\n",
              "      <td>USP_RG_VideoAd5</td>\n",
              "      <td>67.18</td>\n",
              "      <td>268</td>\n",
              "      <td>1</td>\n",
              "      <td>0.373134</td>\n",
              "      <td>0.0</td>\n",
              "      <td>Facebook</td>\n",
              "      <td>MS + Coop KA&amp;TN Ad set - 240224</td>\n",
              "    </tr>\n",
              "    <tr>\n",
              "      <th>28530</th>\n",
              "      <td>2024-03-12</td>\n",
              "      <td>USP_MS + Coop Campaign_240224</td>\n",
              "      <td>NaT</td>\n",
              "      <td>USP_RG_VideoAd5</td>\n",
              "      <td>50.65</td>\n",
              "      <td>75</td>\n",
              "      <td>1</td>\n",
              "      <td>1.333333</td>\n",
              "      <td>0.0</td>\n",
              "      <td>Facebook</td>\n",
              "      <td>MS + Coop All India Ad set - 240224</td>\n",
              "    </tr>\n",
              "    <tr>\n",
              "      <th>28531</th>\n",
              "      <td>2024-03-12</td>\n",
              "      <td>USP Study Abroad_Generic_240224</td>\n",
              "      <td>NaT</td>\n",
              "      <td>USP_Webinar_Saturdayfuture - Copy</td>\n",
              "      <td>11.34</td>\n",
              "      <td>28</td>\n",
              "      <td>0</td>\n",
              "      <td>0.000000</td>\n",
              "      <td>0.0</td>\n",
              "      <td>Facebook</td>\n",
              "      <td>AP&amp;TS Generic Leads Ad Set_240224</td>\n",
              "    </tr>\n",
              "    <tr>\n",
              "      <th>28532</th>\n",
              "      <td>2024-03-12</td>\n",
              "      <td>USP Study Abroad_Generic_240224</td>\n",
              "      <td>NaT</td>\n",
              "      <td>USP_Webinar_Saturdayfuture - Copy</td>\n",
              "      <td>136.97</td>\n",
              "      <td>134</td>\n",
              "      <td>0</td>\n",
              "      <td>0.000000</td>\n",
              "      <td>0.0</td>\n",
              "      <td>Facebook</td>\n",
              "      <td>KA&amp;TN Generic Leads Ad Set_240224</td>\n",
              "    </tr>\n",
              "    <tr>\n",
              "      <th>28533</th>\n",
              "      <td>2024-03-12</td>\n",
              "      <td>USP Study Abroad_Generic_240224</td>\n",
              "      <td>NaT</td>\n",
              "      <td>USP_Webinar_Saturdayfuture</td>\n",
              "      <td>242.59</td>\n",
              "      <td>24</td>\n",
              "      <td>0</td>\n",
              "      <td>0.000000</td>\n",
              "      <td>0.0</td>\n",
              "      <td>Facebook</td>\n",
              "      <td>All India Generic Leads Ad Set_240224</td>\n",
              "    </tr>\n",
              "  </tbody>\n",
              "</table>\n",
              "<p>28534 rows × 11 columns</p>\n",
              "</div>\n",
              "    <div class=\"colab-df-buttons\">\n",
              "\n",
              "  <div class=\"colab-df-container\">\n",
              "    <button class=\"colab-df-convert\" onclick=\"convertToInteractive('df-71cc9e38-46fb-4562-b56a-d4c80afaa4c5')\"\n",
              "            title=\"Convert this dataframe to an interactive table.\"\n",
              "            style=\"display:none;\">\n",
              "\n",
              "  <svg xmlns=\"http://www.w3.org/2000/svg\" height=\"24px\" viewBox=\"0 -960 960 960\">\n",
              "    <path d=\"M120-120v-720h720v720H120Zm60-500h600v-160H180v160Zm220 220h160v-160H400v160Zm0 220h160v-160H400v160ZM180-400h160v-160H180v160Zm440 0h160v-160H620v160ZM180-180h160v-160H180v160Zm440 0h160v-160H620v160Z\"/>\n",
              "  </svg>\n",
              "    </button>\n",
              "\n",
              "  <style>\n",
              "    .colab-df-container {\n",
              "      display:flex;\n",
              "      gap: 12px;\n",
              "    }\n",
              "\n",
              "    .colab-df-convert {\n",
              "      background-color: #E8F0FE;\n",
              "      border: none;\n",
              "      border-radius: 50%;\n",
              "      cursor: pointer;\n",
              "      display: none;\n",
              "      fill: #1967D2;\n",
              "      height: 32px;\n",
              "      padding: 0 0 0 0;\n",
              "      width: 32px;\n",
              "    }\n",
              "\n",
              "    .colab-df-convert:hover {\n",
              "      background-color: #E2EBFA;\n",
              "      box-shadow: 0px 1px 2px rgba(60, 64, 67, 0.3), 0px 1px 3px 1px rgba(60, 64, 67, 0.15);\n",
              "      fill: #174EA6;\n",
              "    }\n",
              "\n",
              "    .colab-df-buttons div {\n",
              "      margin-bottom: 4px;\n",
              "    }\n",
              "\n",
              "    [theme=dark] .colab-df-convert {\n",
              "      background-color: #3B4455;\n",
              "      fill: #D2E3FC;\n",
              "    }\n",
              "\n",
              "    [theme=dark] .colab-df-convert:hover {\n",
              "      background-color: #434B5C;\n",
              "      box-shadow: 0px 1px 3px 1px rgba(0, 0, 0, 0.15);\n",
              "      filter: drop-shadow(0px 1px 2px rgba(0, 0, 0, 0.3));\n",
              "      fill: #FFFFFF;\n",
              "    }\n",
              "  </style>\n",
              "\n",
              "    <script>\n",
              "      const buttonEl =\n",
              "        document.querySelector('#df-71cc9e38-46fb-4562-b56a-d4c80afaa4c5 button.colab-df-convert');\n",
              "      buttonEl.style.display =\n",
              "        google.colab.kernel.accessAllowed ? 'block' : 'none';\n",
              "\n",
              "      async function convertToInteractive(key) {\n",
              "        const element = document.querySelector('#df-71cc9e38-46fb-4562-b56a-d4c80afaa4c5');\n",
              "        const dataTable =\n",
              "          await google.colab.kernel.invokeFunction('convertToInteractive',\n",
              "                                                    [key], {});\n",
              "        if (!dataTable) return;\n",
              "\n",
              "        const docLinkHtml = 'Like what you see? Visit the ' +\n",
              "          '<a target=\"_blank\" href=https://colab.research.google.com/notebooks/data_table.ipynb>data table notebook</a>'\n",
              "          + ' to learn more about interactive tables.';\n",
              "        element.innerHTML = '';\n",
              "        dataTable['output_type'] = 'display_data';\n",
              "        await google.colab.output.renderOutput(dataTable, element);\n",
              "        const docLink = document.createElement('div');\n",
              "        docLink.innerHTML = docLinkHtml;\n",
              "        element.appendChild(docLink);\n",
              "      }\n",
              "    </script>\n",
              "  </div>\n",
              "\n",
              "\n",
              "<div id=\"df-809f4cb9-692c-43e4-a013-e9d64fae5406\">\n",
              "  <button class=\"colab-df-quickchart\" onclick=\"quickchart('df-809f4cb9-692c-43e4-a013-e9d64fae5406')\"\n",
              "            title=\"Suggest charts\"\n",
              "            style=\"display:none;\">\n",
              "\n",
              "<svg xmlns=\"http://www.w3.org/2000/svg\" height=\"24px\"viewBox=\"0 0 24 24\"\n",
              "     width=\"24px\">\n",
              "    <g>\n",
              "        <path d=\"M19 3H5c-1.1 0-2 .9-2 2v14c0 1.1.9 2 2 2h14c1.1 0 2-.9 2-2V5c0-1.1-.9-2-2-2zM9 17H7v-7h2v7zm4 0h-2V7h2v10zm4 0h-2v-4h2v4z\"/>\n",
              "    </g>\n",
              "</svg>\n",
              "  </button>\n",
              "\n",
              "<style>\n",
              "  .colab-df-quickchart {\n",
              "      --bg-color: #E8F0FE;\n",
              "      --fill-color: #1967D2;\n",
              "      --hover-bg-color: #E2EBFA;\n",
              "      --hover-fill-color: #174EA6;\n",
              "      --disabled-fill-color: #AAA;\n",
              "      --disabled-bg-color: #DDD;\n",
              "  }\n",
              "\n",
              "  [theme=dark] .colab-df-quickchart {\n",
              "      --bg-color: #3B4455;\n",
              "      --fill-color: #D2E3FC;\n",
              "      --hover-bg-color: #434B5C;\n",
              "      --hover-fill-color: #FFFFFF;\n",
              "      --disabled-bg-color: #3B4455;\n",
              "      --disabled-fill-color: #666;\n",
              "  }\n",
              "\n",
              "  .colab-df-quickchart {\n",
              "    background-color: var(--bg-color);\n",
              "    border: none;\n",
              "    border-radius: 50%;\n",
              "    cursor: pointer;\n",
              "    display: none;\n",
              "    fill: var(--fill-color);\n",
              "    height: 32px;\n",
              "    padding: 0;\n",
              "    width: 32px;\n",
              "  }\n",
              "\n",
              "  .colab-df-quickchart:hover {\n",
              "    background-color: var(--hover-bg-color);\n",
              "    box-shadow: 0 1px 2px rgba(60, 64, 67, 0.3), 0 1px 3px 1px rgba(60, 64, 67, 0.15);\n",
              "    fill: var(--button-hover-fill-color);\n",
              "  }\n",
              "\n",
              "  .colab-df-quickchart-complete:disabled,\n",
              "  .colab-df-quickchart-complete:disabled:hover {\n",
              "    background-color: var(--disabled-bg-color);\n",
              "    fill: var(--disabled-fill-color);\n",
              "    box-shadow: none;\n",
              "  }\n",
              "\n",
              "  .colab-df-spinner {\n",
              "    border: 2px solid var(--fill-color);\n",
              "    border-color: transparent;\n",
              "    border-bottom-color: var(--fill-color);\n",
              "    animation:\n",
              "      spin 1s steps(1) infinite;\n",
              "  }\n",
              "\n",
              "  @keyframes spin {\n",
              "    0% {\n",
              "      border-color: transparent;\n",
              "      border-bottom-color: var(--fill-color);\n",
              "      border-left-color: var(--fill-color);\n",
              "    }\n",
              "    20% {\n",
              "      border-color: transparent;\n",
              "      border-left-color: var(--fill-color);\n",
              "      border-top-color: var(--fill-color);\n",
              "    }\n",
              "    30% {\n",
              "      border-color: transparent;\n",
              "      border-left-color: var(--fill-color);\n",
              "      border-top-color: var(--fill-color);\n",
              "      border-right-color: var(--fill-color);\n",
              "    }\n",
              "    40% {\n",
              "      border-color: transparent;\n",
              "      border-right-color: var(--fill-color);\n",
              "      border-top-color: var(--fill-color);\n",
              "    }\n",
              "    60% {\n",
              "      border-color: transparent;\n",
              "      border-right-color: var(--fill-color);\n",
              "    }\n",
              "    80% {\n",
              "      border-color: transparent;\n",
              "      border-right-color: var(--fill-color);\n",
              "      border-bottom-color: var(--fill-color);\n",
              "    }\n",
              "    90% {\n",
              "      border-color: transparent;\n",
              "      border-bottom-color: var(--fill-color);\n",
              "    }\n",
              "  }\n",
              "</style>\n",
              "\n",
              "  <script>\n",
              "    async function quickchart(key) {\n",
              "      const quickchartButtonEl =\n",
              "        document.querySelector('#' + key + ' button');\n",
              "      quickchartButtonEl.disabled = true;  // To prevent multiple clicks.\n",
              "      quickchartButtonEl.classList.add('colab-df-spinner');\n",
              "      try {\n",
              "        const charts = await google.colab.kernel.invokeFunction(\n",
              "            'suggestCharts', [key], {});\n",
              "      } catch (error) {\n",
              "        console.error('Error during call to suggestCharts:', error);\n",
              "      }\n",
              "      quickchartButtonEl.classList.remove('colab-df-spinner');\n",
              "      quickchartButtonEl.classList.add('colab-df-quickchart-complete');\n",
              "    }\n",
              "    (() => {\n",
              "      let quickchartButtonEl =\n",
              "        document.querySelector('#df-809f4cb9-692c-43e4-a013-e9d64fae5406 button');\n",
              "      quickchartButtonEl.style.display =\n",
              "        google.colab.kernel.accessAllowed ? 'block' : 'none';\n",
              "    })();\n",
              "  </script>\n",
              "</div>\n",
              "\n",
              "  <div id=\"id_797ccb3c-354a-46ac-8110-f5810ef25744\">\n",
              "    <style>\n",
              "      .colab-df-generate {\n",
              "        background-color: #E8F0FE;\n",
              "        border: none;\n",
              "        border-radius: 50%;\n",
              "        cursor: pointer;\n",
              "        display: none;\n",
              "        fill: #1967D2;\n",
              "        height: 32px;\n",
              "        padding: 0 0 0 0;\n",
              "        width: 32px;\n",
              "      }\n",
              "\n",
              "      .colab-df-generate:hover {\n",
              "        background-color: #E2EBFA;\n",
              "        box-shadow: 0px 1px 2px rgba(60, 64, 67, 0.3), 0px 1px 3px 1px rgba(60, 64, 67, 0.15);\n",
              "        fill: #174EA6;\n",
              "      }\n",
              "\n",
              "      [theme=dark] .colab-df-generate {\n",
              "        background-color: #3B4455;\n",
              "        fill: #D2E3FC;\n",
              "      }\n",
              "\n",
              "      [theme=dark] .colab-df-generate:hover {\n",
              "        background-color: #434B5C;\n",
              "        box-shadow: 0px 1px 3px 1px rgba(0, 0, 0, 0.15);\n",
              "        filter: drop-shadow(0px 1px 2px rgba(0, 0, 0, 0.3));\n",
              "        fill: #FFFFFF;\n",
              "      }\n",
              "    </style>\n",
              "    <button class=\"colab-df-generate\" onclick=\"generateWithVariable('df')\"\n",
              "            title=\"Generate code using this dataframe.\"\n",
              "            style=\"display:none;\">\n",
              "\n",
              "  <svg xmlns=\"http://www.w3.org/2000/svg\" height=\"24px\"viewBox=\"0 0 24 24\"\n",
              "       width=\"24px\">\n",
              "    <path d=\"M7,19H8.4L18.45,9,17,7.55,7,17.6ZM5,21V16.75L18.45,3.32a2,2,0,0,1,2.83,0l1.4,1.43a1.91,1.91,0,0,1,.58,1.4,1.91,1.91,0,0,1-.58,1.4L9.25,21ZM18.45,9,17,7.55Zm-12,3A5.31,5.31,0,0,0,4.9,8.1,5.31,5.31,0,0,0,1,6.5,5.31,5.31,0,0,0,4.9,4.9,5.31,5.31,0,0,0,6.5,1,5.31,5.31,0,0,0,8.1,4.9,5.31,5.31,0,0,0,12,6.5,5.46,5.46,0,0,0,6.5,12Z\"/>\n",
              "  </svg>\n",
              "    </button>\n",
              "    <script>\n",
              "      (() => {\n",
              "      const buttonEl =\n",
              "        document.querySelector('#id_797ccb3c-354a-46ac-8110-f5810ef25744 button.colab-df-generate');\n",
              "      buttonEl.style.display =\n",
              "        google.colab.kernel.accessAllowed ? 'block' : 'none';\n",
              "\n",
              "      buttonEl.onclick = () => {\n",
              "        google.colab.notebook.generateWithVariable('df');\n",
              "      }\n",
              "      })();\n",
              "    </script>\n",
              "  </div>\n",
              "\n",
              "    </div>\n",
              "  </div>\n"
            ],
            "application/vnd.google.colaboratory.intrinsic+json": {
              "type": "dataframe",
              "variable_name": "df",
              "summary": "{\n  \"name\": \"df\",\n  \"rows\": 28534,\n  \"fields\": [\n    {\n      \"column\": \"dates\",\n      \"properties\": {\n        \"dtype\": \"date\",\n        \"min\": \"2023-11-01 00:00:00\",\n        \"max\": \"2024-05-04 00:00:00\",\n        \"num_unique_values\": 184,\n        \"samples\": [\n          \"2024-04-19 00:00:00\",\n          \"2023-12-30 00:00:00\",\n          \"2023-12-08 00:00:00\"\n        ],\n        \"semantic_type\": \"\",\n        \"description\": \"\"\n      }\n    },\n    {\n      \"column\": \"campaign_name\",\n      \"properties\": {\n        \"dtype\": \"category\",\n        \"num_unique_values\": 41,\n        \"samples\": [\n          \"USP Masterclass Cold [ 23rd Nov ] - More volume - With Logic - India\",\n          \"CBO - USP Masterclass Cold [ 23rd Nov ] - Higher Intent - No Logic new-  India\",\n          \"USP_Webinar_070324\"\n        ],\n        \"semantic_type\": \"\",\n        \"description\": \"\"\n      }\n    },\n    {\n      \"column\": \"campaign_start_date\",\n      \"properties\": {\n        \"dtype\": \"date\",\n        \"min\": \"2023-11-09 00:00:00\",\n        \"max\": \"2024-03-22 00:00:00\",\n        \"num_unique_values\": 3,\n        \"samples\": [\n          \"2023-11-09 00:00:00\",\n          \"2023-11-24 00:00:00\",\n          \"2024-03-22 00:00:00\"\n        ],\n        \"semantic_type\": \"\",\n        \"description\": \"\"\n      }\n    },\n    {\n      \"column\": \"creative_name\",\n      \"properties\": {\n        \"dtype\": \"category\",\n        \"num_unique_values\": 146,\n        \"samples\": [\n          \"USP_We-guarantee_C32\",\n          \"USP_Program_Linkedin_Static_C22_Drexel-27L\",\n          \"USP_S14_Akron_13L\"\n        ],\n        \"semantic_type\": \"\",\n        \"description\": \"\"\n      }\n    },\n    {\n      \"column\": \"total_spent\",\n      \"properties\": {\n        \"dtype\": \"number\",\n        \"std\": 1460.3071388444282,\n        \"min\": 0.0,\n        \"max\": 27125.36,\n        \"num_unique_values\": 17208,\n        \"samples\": [\n          181.0,\n          3913.96,\n          651.77\n        ],\n        \"semantic_type\": \"\",\n        \"description\": \"\"\n      }\n    },\n    {\n      \"column\": \"impressions\",\n      \"properties\": {\n        \"dtype\": \"number\",\n        \"std\": 7988,\n        \"min\": 0,\n        \"max\": 196585,\n        \"num_unique_values\": 6579,\n        \"samples\": [\n          164,\n          7781,\n          1869\n        ],\n        \"semantic_type\": \"\",\n        \"description\": \"\"\n      }\n    },\n    {\n      \"column\": \"clicks\",\n      \"properties\": {\n        \"dtype\": \"number\",\n        \"std\": 78,\n        \"min\": 0,\n        \"max\": 3361,\n        \"num_unique_values\": 497,\n        \"samples\": [\n          275,\n          105,\n          211\n        ],\n        \"semantic_type\": \"\",\n        \"description\": \"\"\n      }\n    },\n    {\n      \"column\": \"click_through_rate\",\n      \"properties\": {\n        \"dtype\": \"number\",\n        \"std\": 5.490324407516089,\n        \"min\": 0.0,\n        \"max\": 200.0,\n        \"num_unique_values\": 7006,\n        \"samples\": [\n          0.3591954,\n          0.19011407,\n          0.37735849\n        ],\n        \"semantic_type\": \"\",\n        \"description\": \"\"\n      }\n    },\n    {\n      \"column\": \"leads\",\n      \"properties\": {\n        \"dtype\": \"number\",\n        \"std\": 4.062136437920505,\n        \"min\": 0.0,\n        \"max\": 153.0,\n        \"num_unique_values\": 124,\n        \"samples\": [\n          23.0,\n          21.0,\n          30.0\n        ],\n        \"semantic_type\": \"\",\n        \"description\": \"\"\n      }\n    },\n    {\n      \"column\": \"platform\",\n      \"properties\": {\n        \"dtype\": \"category\",\n        \"num_unique_values\": 3,\n        \"samples\": [\n          \"Google\",\n          \"Facebook\",\n          \"LinkedIn\"\n        ],\n        \"semantic_type\": \"\",\n        \"description\": \"\"\n      }\n    },\n    {\n      \"column\": \"adset_name\",\n      \"properties\": {\n        \"dtype\": \"category\",\n        \"num_unique_values\": 69,\n        \"samples\": [\n          \"Related To Study In US [ 23rd Nov ]\",\n          \"GMAT/GRE\",\n          \"YT_Channels_URL_targeting\"\n        ],\n        \"semantic_type\": \"\",\n        \"description\": \"\"\n      }\n    }\n  ]\n}"
            }
          },
          "metadata": {},
          "execution_count": 3
        }
      ]
    },
    {
      "cell_type": "code",
      "source": [
        "df.head()"
      ],
      "metadata": {
        "colab": {
          "base_uri": "https://localhost:8080/",
          "height": 330
        },
        "id": "5n8hqoLZcMkP",
        "outputId": "62bdd23d-b80b-4e7c-e300-c492a50fd474"
      },
      "execution_count": null,
      "outputs": [
        {
          "output_type": "execute_result",
          "data": {
            "text/plain": [
              "       dates                        campaign_name campaign_start_date  \\\n",
              "0 2024-04-29           USP_Search_APTNTSKA_250124                 NaT   \n",
              "1 2024-05-02  USP_2_Lead-gen-2_Top4-states_050424                 NaT   \n",
              "2 2024-05-02  USP_2_Lead-gen-2_Top4-states_050424                 NaT   \n",
              "3 2024-05-02  USP_2_Lead-gen-2_Top4-states_050424                 NaT   \n",
              "4 2024-05-02  USP_2_Lead-gen-2_Top4-states_050424                 NaT   \n",
              "\n",
              "                      creative_name  total_spent  impressions  clicks  \\\n",
              "0                                --      6766.15         1250     220   \n",
              "1  #7 ( Graphic ) - Get A Free Pass       946.38         3154       9   \n",
              "2          USP_S3_never-been-easier       170.40         2695       8   \n",
              "3                USP_S4_Do-you-have        55.65          577       2   \n",
              "4               USP_S1_We-guarantee       296.94         1466      10   \n",
              "\n",
              "   click_through_rate  leads  platform          adset_name  \n",
              "0            0.176000   25.0    Google            GMAT/GRE  \n",
              "1            0.285352    1.0  Facebook  USP-2_KA_TN_050424  \n",
              "2            0.296846    0.0  Facebook  USP-2_KA_TN_050424  \n",
              "3            0.346620    0.0  Facebook  USP-2_KA_TN_050424  \n",
              "4            0.682128    1.0  Facebook  USP-2_AP_TS_050424  "
            ],
            "text/html": [
              "\n",
              "  <div id=\"df-c70cfb9b-4c1b-4d41-b2a8-e3fb9ca4729d\" class=\"colab-df-container\">\n",
              "    <div>\n",
              "<style scoped>\n",
              "    .dataframe tbody tr th:only-of-type {\n",
              "        vertical-align: middle;\n",
              "    }\n",
              "\n",
              "    .dataframe tbody tr th {\n",
              "        vertical-align: top;\n",
              "    }\n",
              "\n",
              "    .dataframe thead th {\n",
              "        text-align: right;\n",
              "    }\n",
              "</style>\n",
              "<table border=\"1\" class=\"dataframe\">\n",
              "  <thead>\n",
              "    <tr style=\"text-align: right;\">\n",
              "      <th></th>\n",
              "      <th>dates</th>\n",
              "      <th>campaign_name</th>\n",
              "      <th>campaign_start_date</th>\n",
              "      <th>creative_name</th>\n",
              "      <th>total_spent</th>\n",
              "      <th>impressions</th>\n",
              "      <th>clicks</th>\n",
              "      <th>click_through_rate</th>\n",
              "      <th>leads</th>\n",
              "      <th>platform</th>\n",
              "      <th>adset_name</th>\n",
              "    </tr>\n",
              "  </thead>\n",
              "  <tbody>\n",
              "    <tr>\n",
              "      <th>0</th>\n",
              "      <td>2024-04-29</td>\n",
              "      <td>USP_Search_APTNTSKA_250124</td>\n",
              "      <td>NaT</td>\n",
              "      <td>--</td>\n",
              "      <td>6766.15</td>\n",
              "      <td>1250</td>\n",
              "      <td>220</td>\n",
              "      <td>0.176000</td>\n",
              "      <td>25.0</td>\n",
              "      <td>Google</td>\n",
              "      <td>GMAT/GRE</td>\n",
              "    </tr>\n",
              "    <tr>\n",
              "      <th>1</th>\n",
              "      <td>2024-05-02</td>\n",
              "      <td>USP_2_Lead-gen-2_Top4-states_050424</td>\n",
              "      <td>NaT</td>\n",
              "      <td>#7 ( Graphic ) - Get A Free Pass</td>\n",
              "      <td>946.38</td>\n",
              "      <td>3154</td>\n",
              "      <td>9</td>\n",
              "      <td>0.285352</td>\n",
              "      <td>1.0</td>\n",
              "      <td>Facebook</td>\n",
              "      <td>USP-2_KA_TN_050424</td>\n",
              "    </tr>\n",
              "    <tr>\n",
              "      <th>2</th>\n",
              "      <td>2024-05-02</td>\n",
              "      <td>USP_2_Lead-gen-2_Top4-states_050424</td>\n",
              "      <td>NaT</td>\n",
              "      <td>USP_S3_never-been-easier</td>\n",
              "      <td>170.40</td>\n",
              "      <td>2695</td>\n",
              "      <td>8</td>\n",
              "      <td>0.296846</td>\n",
              "      <td>0.0</td>\n",
              "      <td>Facebook</td>\n",
              "      <td>USP-2_KA_TN_050424</td>\n",
              "    </tr>\n",
              "    <tr>\n",
              "      <th>3</th>\n",
              "      <td>2024-05-02</td>\n",
              "      <td>USP_2_Lead-gen-2_Top4-states_050424</td>\n",
              "      <td>NaT</td>\n",
              "      <td>USP_S4_Do-you-have</td>\n",
              "      <td>55.65</td>\n",
              "      <td>577</td>\n",
              "      <td>2</td>\n",
              "      <td>0.346620</td>\n",
              "      <td>0.0</td>\n",
              "      <td>Facebook</td>\n",
              "      <td>USP-2_KA_TN_050424</td>\n",
              "    </tr>\n",
              "    <tr>\n",
              "      <th>4</th>\n",
              "      <td>2024-05-02</td>\n",
              "      <td>USP_2_Lead-gen-2_Top4-states_050424</td>\n",
              "      <td>NaT</td>\n",
              "      <td>USP_S1_We-guarantee</td>\n",
              "      <td>296.94</td>\n",
              "      <td>1466</td>\n",
              "      <td>10</td>\n",
              "      <td>0.682128</td>\n",
              "      <td>1.0</td>\n",
              "      <td>Facebook</td>\n",
              "      <td>USP-2_AP_TS_050424</td>\n",
              "    </tr>\n",
              "  </tbody>\n",
              "</table>\n",
              "</div>\n",
              "    <div class=\"colab-df-buttons\">\n",
              "\n",
              "  <div class=\"colab-df-container\">\n",
              "    <button class=\"colab-df-convert\" onclick=\"convertToInteractive('df-c70cfb9b-4c1b-4d41-b2a8-e3fb9ca4729d')\"\n",
              "            title=\"Convert this dataframe to an interactive table.\"\n",
              "            style=\"display:none;\">\n",
              "\n",
              "  <svg xmlns=\"http://www.w3.org/2000/svg\" height=\"24px\" viewBox=\"0 -960 960 960\">\n",
              "    <path d=\"M120-120v-720h720v720H120Zm60-500h600v-160H180v160Zm220 220h160v-160H400v160Zm0 220h160v-160H400v160ZM180-400h160v-160H180v160Zm440 0h160v-160H620v160ZM180-180h160v-160H180v160Zm440 0h160v-160H620v160Z\"/>\n",
              "  </svg>\n",
              "    </button>\n",
              "\n",
              "  <style>\n",
              "    .colab-df-container {\n",
              "      display:flex;\n",
              "      gap: 12px;\n",
              "    }\n",
              "\n",
              "    .colab-df-convert {\n",
              "      background-color: #E8F0FE;\n",
              "      border: none;\n",
              "      border-radius: 50%;\n",
              "      cursor: pointer;\n",
              "      display: none;\n",
              "      fill: #1967D2;\n",
              "      height: 32px;\n",
              "      padding: 0 0 0 0;\n",
              "      width: 32px;\n",
              "    }\n",
              "\n",
              "    .colab-df-convert:hover {\n",
              "      background-color: #E2EBFA;\n",
              "      box-shadow: 0px 1px 2px rgba(60, 64, 67, 0.3), 0px 1px 3px 1px rgba(60, 64, 67, 0.15);\n",
              "      fill: #174EA6;\n",
              "    }\n",
              "\n",
              "    .colab-df-buttons div {\n",
              "      margin-bottom: 4px;\n",
              "    }\n",
              "\n",
              "    [theme=dark] .colab-df-convert {\n",
              "      background-color: #3B4455;\n",
              "      fill: #D2E3FC;\n",
              "    }\n",
              "\n",
              "    [theme=dark] .colab-df-convert:hover {\n",
              "      background-color: #434B5C;\n",
              "      box-shadow: 0px 1px 3px 1px rgba(0, 0, 0, 0.15);\n",
              "      filter: drop-shadow(0px 1px 2px rgba(0, 0, 0, 0.3));\n",
              "      fill: #FFFFFF;\n",
              "    }\n",
              "  </style>\n",
              "\n",
              "    <script>\n",
              "      const buttonEl =\n",
              "        document.querySelector('#df-c70cfb9b-4c1b-4d41-b2a8-e3fb9ca4729d button.colab-df-convert');\n",
              "      buttonEl.style.display =\n",
              "        google.colab.kernel.accessAllowed ? 'block' : 'none';\n",
              "\n",
              "      async function convertToInteractive(key) {\n",
              "        const element = document.querySelector('#df-c70cfb9b-4c1b-4d41-b2a8-e3fb9ca4729d');\n",
              "        const dataTable =\n",
              "          await google.colab.kernel.invokeFunction('convertToInteractive',\n",
              "                                                    [key], {});\n",
              "        if (!dataTable) return;\n",
              "\n",
              "        const docLinkHtml = 'Like what you see? Visit the ' +\n",
              "          '<a target=\"_blank\" href=https://colab.research.google.com/notebooks/data_table.ipynb>data table notebook</a>'\n",
              "          + ' to learn more about interactive tables.';\n",
              "        element.innerHTML = '';\n",
              "        dataTable['output_type'] = 'display_data';\n",
              "        await google.colab.output.renderOutput(dataTable, element);\n",
              "        const docLink = document.createElement('div');\n",
              "        docLink.innerHTML = docLinkHtml;\n",
              "        element.appendChild(docLink);\n",
              "      }\n",
              "    </script>\n",
              "  </div>\n",
              "\n",
              "\n",
              "<div id=\"df-b1265b89-df27-4807-8a9f-377688bcf834\">\n",
              "  <button class=\"colab-df-quickchart\" onclick=\"quickchart('df-b1265b89-df27-4807-8a9f-377688bcf834')\"\n",
              "            title=\"Suggest charts\"\n",
              "            style=\"display:none;\">\n",
              "\n",
              "<svg xmlns=\"http://www.w3.org/2000/svg\" height=\"24px\"viewBox=\"0 0 24 24\"\n",
              "     width=\"24px\">\n",
              "    <g>\n",
              "        <path d=\"M19 3H5c-1.1 0-2 .9-2 2v14c0 1.1.9 2 2 2h14c1.1 0 2-.9 2-2V5c0-1.1-.9-2-2-2zM9 17H7v-7h2v7zm4 0h-2V7h2v10zm4 0h-2v-4h2v4z\"/>\n",
              "    </g>\n",
              "</svg>\n",
              "  </button>\n",
              "\n",
              "<style>\n",
              "  .colab-df-quickchart {\n",
              "      --bg-color: #E8F0FE;\n",
              "      --fill-color: #1967D2;\n",
              "      --hover-bg-color: #E2EBFA;\n",
              "      --hover-fill-color: #174EA6;\n",
              "      --disabled-fill-color: #AAA;\n",
              "      --disabled-bg-color: #DDD;\n",
              "  }\n",
              "\n",
              "  [theme=dark] .colab-df-quickchart {\n",
              "      --bg-color: #3B4455;\n",
              "      --fill-color: #D2E3FC;\n",
              "      --hover-bg-color: #434B5C;\n",
              "      --hover-fill-color: #FFFFFF;\n",
              "      --disabled-bg-color: #3B4455;\n",
              "      --disabled-fill-color: #666;\n",
              "  }\n",
              "\n",
              "  .colab-df-quickchart {\n",
              "    background-color: var(--bg-color);\n",
              "    border: none;\n",
              "    border-radius: 50%;\n",
              "    cursor: pointer;\n",
              "    display: none;\n",
              "    fill: var(--fill-color);\n",
              "    height: 32px;\n",
              "    padding: 0;\n",
              "    width: 32px;\n",
              "  }\n",
              "\n",
              "  .colab-df-quickchart:hover {\n",
              "    background-color: var(--hover-bg-color);\n",
              "    box-shadow: 0 1px 2px rgba(60, 64, 67, 0.3), 0 1px 3px 1px rgba(60, 64, 67, 0.15);\n",
              "    fill: var(--button-hover-fill-color);\n",
              "  }\n",
              "\n",
              "  .colab-df-quickchart-complete:disabled,\n",
              "  .colab-df-quickchart-complete:disabled:hover {\n",
              "    background-color: var(--disabled-bg-color);\n",
              "    fill: var(--disabled-fill-color);\n",
              "    box-shadow: none;\n",
              "  }\n",
              "\n",
              "  .colab-df-spinner {\n",
              "    border: 2px solid var(--fill-color);\n",
              "    border-color: transparent;\n",
              "    border-bottom-color: var(--fill-color);\n",
              "    animation:\n",
              "      spin 1s steps(1) infinite;\n",
              "  }\n",
              "\n",
              "  @keyframes spin {\n",
              "    0% {\n",
              "      border-color: transparent;\n",
              "      border-bottom-color: var(--fill-color);\n",
              "      border-left-color: var(--fill-color);\n",
              "    }\n",
              "    20% {\n",
              "      border-color: transparent;\n",
              "      border-left-color: var(--fill-color);\n",
              "      border-top-color: var(--fill-color);\n",
              "    }\n",
              "    30% {\n",
              "      border-color: transparent;\n",
              "      border-left-color: var(--fill-color);\n",
              "      border-top-color: var(--fill-color);\n",
              "      border-right-color: var(--fill-color);\n",
              "    }\n",
              "    40% {\n",
              "      border-color: transparent;\n",
              "      border-right-color: var(--fill-color);\n",
              "      border-top-color: var(--fill-color);\n",
              "    }\n",
              "    60% {\n",
              "      border-color: transparent;\n",
              "      border-right-color: var(--fill-color);\n",
              "    }\n",
              "    80% {\n",
              "      border-color: transparent;\n",
              "      border-right-color: var(--fill-color);\n",
              "      border-bottom-color: var(--fill-color);\n",
              "    }\n",
              "    90% {\n",
              "      border-color: transparent;\n",
              "      border-bottom-color: var(--fill-color);\n",
              "    }\n",
              "  }\n",
              "</style>\n",
              "\n",
              "  <script>\n",
              "    async function quickchart(key) {\n",
              "      const quickchartButtonEl =\n",
              "        document.querySelector('#' + key + ' button');\n",
              "      quickchartButtonEl.disabled = true;  // To prevent multiple clicks.\n",
              "      quickchartButtonEl.classList.add('colab-df-spinner');\n",
              "      try {\n",
              "        const charts = await google.colab.kernel.invokeFunction(\n",
              "            'suggestCharts', [key], {});\n",
              "      } catch (error) {\n",
              "        console.error('Error during call to suggestCharts:', error);\n",
              "      }\n",
              "      quickchartButtonEl.classList.remove('colab-df-spinner');\n",
              "      quickchartButtonEl.classList.add('colab-df-quickchart-complete');\n",
              "    }\n",
              "    (() => {\n",
              "      let quickchartButtonEl =\n",
              "        document.querySelector('#df-b1265b89-df27-4807-8a9f-377688bcf834 button');\n",
              "      quickchartButtonEl.style.display =\n",
              "        google.colab.kernel.accessAllowed ? 'block' : 'none';\n",
              "    })();\n",
              "  </script>\n",
              "</div>\n",
              "\n",
              "    </div>\n",
              "  </div>\n"
            ],
            "application/vnd.google.colaboratory.intrinsic+json": {
              "type": "dataframe",
              "variable_name": "df",
              "summary": "{\n  \"name\": \"df\",\n  \"rows\": 28534,\n  \"fields\": [\n    {\n      \"column\": \"dates\",\n      \"properties\": {\n        \"dtype\": \"date\",\n        \"min\": \"2023-11-01 00:00:00\",\n        \"max\": \"2024-05-04 00:00:00\",\n        \"num_unique_values\": 184,\n        \"samples\": [\n          \"2024-04-19 00:00:00\",\n          \"2023-12-30 00:00:00\",\n          \"2023-12-08 00:00:00\"\n        ],\n        \"semantic_type\": \"\",\n        \"description\": \"\"\n      }\n    },\n    {\n      \"column\": \"campaign_name\",\n      \"properties\": {\n        \"dtype\": \"category\",\n        \"num_unique_values\": 41,\n        \"samples\": [\n          \"USP Masterclass Cold [ 23rd Nov ] - More volume - With Logic - India\",\n          \"CBO - USP Masterclass Cold [ 23rd Nov ] - Higher Intent - No Logic new-  India\",\n          \"USP_Webinar_070324\"\n        ],\n        \"semantic_type\": \"\",\n        \"description\": \"\"\n      }\n    },\n    {\n      \"column\": \"campaign_start_date\",\n      \"properties\": {\n        \"dtype\": \"date\",\n        \"min\": \"2023-11-09 00:00:00\",\n        \"max\": \"2024-03-22 00:00:00\",\n        \"num_unique_values\": 3,\n        \"samples\": [\n          \"2023-11-09 00:00:00\",\n          \"2023-11-24 00:00:00\",\n          \"2024-03-22 00:00:00\"\n        ],\n        \"semantic_type\": \"\",\n        \"description\": \"\"\n      }\n    },\n    {\n      \"column\": \"creative_name\",\n      \"properties\": {\n        \"dtype\": \"category\",\n        \"num_unique_values\": 146,\n        \"samples\": [\n          \"USP_We-guarantee_C32\",\n          \"USP_Program_Linkedin_Static_C22_Drexel-27L\",\n          \"USP_S14_Akron_13L\"\n        ],\n        \"semantic_type\": \"\",\n        \"description\": \"\"\n      }\n    },\n    {\n      \"column\": \"total_spent\",\n      \"properties\": {\n        \"dtype\": \"number\",\n        \"std\": 1460.3071388444282,\n        \"min\": 0.0,\n        \"max\": 27125.36,\n        \"num_unique_values\": 17208,\n        \"samples\": [\n          181.0,\n          3913.96,\n          651.77\n        ],\n        \"semantic_type\": \"\",\n        \"description\": \"\"\n      }\n    },\n    {\n      \"column\": \"impressions\",\n      \"properties\": {\n        \"dtype\": \"number\",\n        \"std\": 7988,\n        \"min\": 0,\n        \"max\": 196585,\n        \"num_unique_values\": 6579,\n        \"samples\": [\n          164,\n          7781,\n          1869\n        ],\n        \"semantic_type\": \"\",\n        \"description\": \"\"\n      }\n    },\n    {\n      \"column\": \"clicks\",\n      \"properties\": {\n        \"dtype\": \"number\",\n        \"std\": 78,\n        \"min\": 0,\n        \"max\": 3361,\n        \"num_unique_values\": 497,\n        \"samples\": [\n          275,\n          105,\n          211\n        ],\n        \"semantic_type\": \"\",\n        \"description\": \"\"\n      }\n    },\n    {\n      \"column\": \"click_through_rate\",\n      \"properties\": {\n        \"dtype\": \"number\",\n        \"std\": 5.490324407516089,\n        \"min\": 0.0,\n        \"max\": 200.0,\n        \"num_unique_values\": 7006,\n        \"samples\": [\n          0.3591954,\n          0.19011407,\n          0.37735849\n        ],\n        \"semantic_type\": \"\",\n        \"description\": \"\"\n      }\n    },\n    {\n      \"column\": \"leads\",\n      \"properties\": {\n        \"dtype\": \"number\",\n        \"std\": 4.062136437920505,\n        \"min\": 0.0,\n        \"max\": 153.0,\n        \"num_unique_values\": 124,\n        \"samples\": [\n          23.0,\n          21.0,\n          30.0\n        ],\n        \"semantic_type\": \"\",\n        \"description\": \"\"\n      }\n    },\n    {\n      \"column\": \"platform\",\n      \"properties\": {\n        \"dtype\": \"category\",\n        \"num_unique_values\": 3,\n        \"samples\": [\n          \"Google\",\n          \"Facebook\",\n          \"LinkedIn\"\n        ],\n        \"semantic_type\": \"\",\n        \"description\": \"\"\n      }\n    },\n    {\n      \"column\": \"adset_name\",\n      \"properties\": {\n        \"dtype\": \"category\",\n        \"num_unique_values\": 69,\n        \"samples\": [\n          \"Related To Study In US [ 23rd Nov ]\",\n          \"GMAT/GRE\",\n          \"YT_Channels_URL_targeting\"\n        ],\n        \"semantic_type\": \"\",\n        \"description\": \"\"\n      }\n    }\n  ]\n}"
            }
          },
          "metadata": {},
          "execution_count": 4
        }
      ]
    },
    {
      "cell_type": "code",
      "source": [
        "df.info()"
      ],
      "metadata": {
        "colab": {
          "base_uri": "https://localhost:8080/"
        },
        "id": "rZ9CIcxdcWIR",
        "outputId": "591b7a6a-170a-4959-e58c-36fa18e0b0ee"
      },
      "execution_count": null,
      "outputs": [
        {
          "output_type": "stream",
          "name": "stdout",
          "text": [
            "<class 'pandas.core.frame.DataFrame'>\n",
            "RangeIndex: 28534 entries, 0 to 28533\n",
            "Data columns (total 11 columns):\n",
            " #   Column               Non-Null Count  Dtype         \n",
            "---  ------               --------------  -----         \n",
            " 0   dates                28534 non-null  datetime64[ns]\n",
            " 1   campaign_name        28534 non-null  object        \n",
            " 2   campaign_start_date  4247 non-null   datetime64[ns]\n",
            " 3   creative_name        28534 non-null  object        \n",
            " 4   total_spent          28534 non-null  float64       \n",
            " 5   impressions          28534 non-null  int64         \n",
            " 6   clicks               28534 non-null  int64         \n",
            " 7   click_through_rate   28497 non-null  float64       \n",
            " 8   leads                28534 non-null  float64       \n",
            " 9   platform             28534 non-null  object        \n",
            " 10  adset_name           24287 non-null  object        \n",
            "dtypes: datetime64[ns](2), float64(3), int64(2), object(4)\n",
            "memory usage: 2.4+ MB\n"
          ]
        }
      ]
    },
    {
      "cell_type": "code",
      "source": [
        "df.isna().sum().to_frame().T #checking missing values"
      ],
      "metadata": {
        "colab": {
          "base_uri": "https://localhost:8080/",
          "height": 100
        },
        "id": "B-aQrUOJcbrT",
        "outputId": "80d83ad3-332f-494b-eb5b-e57f6a6810fc"
      },
      "execution_count": null,
      "outputs": [
        {
          "output_type": "execute_result",
          "data": {
            "text/plain": [
              "   dates  campaign_name  campaign_start_date  creative_name  total_spent  \\\n",
              "0      0              0                24287              0            0   \n",
              "\n",
              "   impressions  clicks  click_through_rate  leads  platform  adset_name  \n",
              "0            0       0                  37      0         0        4247  "
            ],
            "text/html": [
              "\n",
              "  <div id=\"df-03bbe97e-9353-47f3-a35f-ed2ec1106a22\" class=\"colab-df-container\">\n",
              "    <div>\n",
              "<style scoped>\n",
              "    .dataframe tbody tr th:only-of-type {\n",
              "        vertical-align: middle;\n",
              "    }\n",
              "\n",
              "    .dataframe tbody tr th {\n",
              "        vertical-align: top;\n",
              "    }\n",
              "\n",
              "    .dataframe thead th {\n",
              "        text-align: right;\n",
              "    }\n",
              "</style>\n",
              "<table border=\"1\" class=\"dataframe\">\n",
              "  <thead>\n",
              "    <tr style=\"text-align: right;\">\n",
              "      <th></th>\n",
              "      <th>dates</th>\n",
              "      <th>campaign_name</th>\n",
              "      <th>campaign_start_date</th>\n",
              "      <th>creative_name</th>\n",
              "      <th>total_spent</th>\n",
              "      <th>impressions</th>\n",
              "      <th>clicks</th>\n",
              "      <th>click_through_rate</th>\n",
              "      <th>leads</th>\n",
              "      <th>platform</th>\n",
              "      <th>adset_name</th>\n",
              "    </tr>\n",
              "  </thead>\n",
              "  <tbody>\n",
              "    <tr>\n",
              "      <th>0</th>\n",
              "      <td>0</td>\n",
              "      <td>0</td>\n",
              "      <td>24287</td>\n",
              "      <td>0</td>\n",
              "      <td>0</td>\n",
              "      <td>0</td>\n",
              "      <td>0</td>\n",
              "      <td>37</td>\n",
              "      <td>0</td>\n",
              "      <td>0</td>\n",
              "      <td>4247</td>\n",
              "    </tr>\n",
              "  </tbody>\n",
              "</table>\n",
              "</div>\n",
              "    <div class=\"colab-df-buttons\">\n",
              "\n",
              "  <div class=\"colab-df-container\">\n",
              "    <button class=\"colab-df-convert\" onclick=\"convertToInteractive('df-03bbe97e-9353-47f3-a35f-ed2ec1106a22')\"\n",
              "            title=\"Convert this dataframe to an interactive table.\"\n",
              "            style=\"display:none;\">\n",
              "\n",
              "  <svg xmlns=\"http://www.w3.org/2000/svg\" height=\"24px\" viewBox=\"0 -960 960 960\">\n",
              "    <path d=\"M120-120v-720h720v720H120Zm60-500h600v-160H180v160Zm220 220h160v-160H400v160Zm0 220h160v-160H400v160ZM180-400h160v-160H180v160Zm440 0h160v-160H620v160ZM180-180h160v-160H180v160Zm440 0h160v-160H620v160Z\"/>\n",
              "  </svg>\n",
              "    </button>\n",
              "\n",
              "  <style>\n",
              "    .colab-df-container {\n",
              "      display:flex;\n",
              "      gap: 12px;\n",
              "    }\n",
              "\n",
              "    .colab-df-convert {\n",
              "      background-color: #E8F0FE;\n",
              "      border: none;\n",
              "      border-radius: 50%;\n",
              "      cursor: pointer;\n",
              "      display: none;\n",
              "      fill: #1967D2;\n",
              "      height: 32px;\n",
              "      padding: 0 0 0 0;\n",
              "      width: 32px;\n",
              "    }\n",
              "\n",
              "    .colab-df-convert:hover {\n",
              "      background-color: #E2EBFA;\n",
              "      box-shadow: 0px 1px 2px rgba(60, 64, 67, 0.3), 0px 1px 3px 1px rgba(60, 64, 67, 0.15);\n",
              "      fill: #174EA6;\n",
              "    }\n",
              "\n",
              "    .colab-df-buttons div {\n",
              "      margin-bottom: 4px;\n",
              "    }\n",
              "\n",
              "    [theme=dark] .colab-df-convert {\n",
              "      background-color: #3B4455;\n",
              "      fill: #D2E3FC;\n",
              "    }\n",
              "\n",
              "    [theme=dark] .colab-df-convert:hover {\n",
              "      background-color: #434B5C;\n",
              "      box-shadow: 0px 1px 3px 1px rgba(0, 0, 0, 0.15);\n",
              "      filter: drop-shadow(0px 1px 2px rgba(0, 0, 0, 0.3));\n",
              "      fill: #FFFFFF;\n",
              "    }\n",
              "  </style>\n",
              "\n",
              "    <script>\n",
              "      const buttonEl =\n",
              "        document.querySelector('#df-03bbe97e-9353-47f3-a35f-ed2ec1106a22 button.colab-df-convert');\n",
              "      buttonEl.style.display =\n",
              "        google.colab.kernel.accessAllowed ? 'block' : 'none';\n",
              "\n",
              "      async function convertToInteractive(key) {\n",
              "        const element = document.querySelector('#df-03bbe97e-9353-47f3-a35f-ed2ec1106a22');\n",
              "        const dataTable =\n",
              "          await google.colab.kernel.invokeFunction('convertToInteractive',\n",
              "                                                    [key], {});\n",
              "        if (!dataTable) return;\n",
              "\n",
              "        const docLinkHtml = 'Like what you see? Visit the ' +\n",
              "          '<a target=\"_blank\" href=https://colab.research.google.com/notebooks/data_table.ipynb>data table notebook</a>'\n",
              "          + ' to learn more about interactive tables.';\n",
              "        element.innerHTML = '';\n",
              "        dataTable['output_type'] = 'display_data';\n",
              "        await google.colab.output.renderOutput(dataTable, element);\n",
              "        const docLink = document.createElement('div');\n",
              "        docLink.innerHTML = docLinkHtml;\n",
              "        element.appendChild(docLink);\n",
              "      }\n",
              "    </script>\n",
              "  </div>\n",
              "\n",
              "\n",
              "    </div>\n",
              "  </div>\n"
            ],
            "application/vnd.google.colaboratory.intrinsic+json": {
              "type": "dataframe",
              "summary": "{\n  \"name\": \"df\",\n  \"rows\": 1,\n  \"fields\": [\n    {\n      \"column\": \"dates\",\n      \"properties\": {\n        \"dtype\": \"number\",\n        \"std\": null,\n        \"min\": 0,\n        \"max\": 0,\n        \"num_unique_values\": 1,\n        \"samples\": [\n          0\n        ],\n        \"semantic_type\": \"\",\n        \"description\": \"\"\n      }\n    },\n    {\n      \"column\": \"campaign_name\",\n      \"properties\": {\n        \"dtype\": \"number\",\n        \"std\": null,\n        \"min\": 0,\n        \"max\": 0,\n        \"num_unique_values\": 1,\n        \"samples\": [\n          0\n        ],\n        \"semantic_type\": \"\",\n        \"description\": \"\"\n      }\n    },\n    {\n      \"column\": \"campaign_start_date\",\n      \"properties\": {\n        \"dtype\": \"number\",\n        \"std\": null,\n        \"min\": 24287,\n        \"max\": 24287,\n        \"num_unique_values\": 1,\n        \"samples\": [\n          24287\n        ],\n        \"semantic_type\": \"\",\n        \"description\": \"\"\n      }\n    },\n    {\n      \"column\": \"creative_name\",\n      \"properties\": {\n        \"dtype\": \"number\",\n        \"std\": null,\n        \"min\": 0,\n        \"max\": 0,\n        \"num_unique_values\": 1,\n        \"samples\": [\n          0\n        ],\n        \"semantic_type\": \"\",\n        \"description\": \"\"\n      }\n    },\n    {\n      \"column\": \"total_spent\",\n      \"properties\": {\n        \"dtype\": \"number\",\n        \"std\": null,\n        \"min\": 0,\n        \"max\": 0,\n        \"num_unique_values\": 1,\n        \"samples\": [\n          0\n        ],\n        \"semantic_type\": \"\",\n        \"description\": \"\"\n      }\n    },\n    {\n      \"column\": \"impressions\",\n      \"properties\": {\n        \"dtype\": \"number\",\n        \"std\": null,\n        \"min\": 0,\n        \"max\": 0,\n        \"num_unique_values\": 1,\n        \"samples\": [\n          0\n        ],\n        \"semantic_type\": \"\",\n        \"description\": \"\"\n      }\n    },\n    {\n      \"column\": \"clicks\",\n      \"properties\": {\n        \"dtype\": \"number\",\n        \"std\": null,\n        \"min\": 0,\n        \"max\": 0,\n        \"num_unique_values\": 1,\n        \"samples\": [\n          0\n        ],\n        \"semantic_type\": \"\",\n        \"description\": \"\"\n      }\n    },\n    {\n      \"column\": \"click_through_rate\",\n      \"properties\": {\n        \"dtype\": \"number\",\n        \"std\": null,\n        \"min\": 37,\n        \"max\": 37,\n        \"num_unique_values\": 1,\n        \"samples\": [\n          37\n        ],\n        \"semantic_type\": \"\",\n        \"description\": \"\"\n      }\n    },\n    {\n      \"column\": \"leads\",\n      \"properties\": {\n        \"dtype\": \"number\",\n        \"std\": null,\n        \"min\": 0,\n        \"max\": 0,\n        \"num_unique_values\": 1,\n        \"samples\": [\n          0\n        ],\n        \"semantic_type\": \"\",\n        \"description\": \"\"\n      }\n    },\n    {\n      \"column\": \"platform\",\n      \"properties\": {\n        \"dtype\": \"number\",\n        \"std\": null,\n        \"min\": 0,\n        \"max\": 0,\n        \"num_unique_values\": 1,\n        \"samples\": [\n          0\n        ],\n        \"semantic_type\": \"\",\n        \"description\": \"\"\n      }\n    },\n    {\n      \"column\": \"adset_name\",\n      \"properties\": {\n        \"dtype\": \"number\",\n        \"std\": null,\n        \"min\": 4247,\n        \"max\": 4247,\n        \"num_unique_values\": 1,\n        \"samples\": [\n          4247\n        ],\n        \"semantic_type\": \"\",\n        \"description\": \"\"\n      }\n    }\n  ]\n}"
            }
          },
          "metadata": {},
          "execution_count": 6
        }
      ]
    },
    {
      "cell_type": "code",
      "source": [
        "# check invalid valuse\n",
        "for col in df:\n",
        "  print(f\"{col} has {df[col].nunique()} unique value\")"
      ],
      "metadata": {
        "colab": {
          "base_uri": "https://localhost:8080/"
        },
        "id": "2e0w3xADcyRu",
        "outputId": "25ad2d90-fab6-4e6f-9f95-c2d74a490a80"
      },
      "execution_count": null,
      "outputs": [
        {
          "output_type": "stream",
          "name": "stdout",
          "text": [
            "dates has 184 unique value\n",
            "campaign_name has 41 unique value\n",
            "campaign_start_date has 3 unique value\n",
            "creative_name has 146 unique value\n",
            "total_spent has 17208 unique value\n",
            "impressions has 6579 unique value\n",
            "clicks has 497 unique value\n",
            "click_through_rate has 7006 unique value\n",
            "leads has 124 unique value\n",
            "platform has 3 unique value\n",
            "adset_name has 69 unique value\n"
          ]
        }
      ]
    },
    {
      "cell_type": "code",
      "source": [
        "# now check duplicated data\n",
        "df.duplicated()"
      ],
      "metadata": {
        "colab": {
          "base_uri": "https://localhost:8080/"
        },
        "id": "4RZ_odo4dCIN",
        "outputId": "0bd68ef6-2028-427a-da81-a699575e071f"
      },
      "execution_count": null,
      "outputs": [
        {
          "output_type": "execute_result",
          "data": {
            "text/plain": [
              "0        False\n",
              "1        False\n",
              "2        False\n",
              "3        False\n",
              "4        False\n",
              "         ...  \n",
              "28529    False\n",
              "28530    False\n",
              "28531    False\n",
              "28532    False\n",
              "28533    False\n",
              "Length: 28534, dtype: bool"
            ]
          },
          "metadata": {},
          "execution_count": 8
        }
      ]
    },
    {
      "cell_type": "code",
      "source": [
        "# Forward fill\n",
        "df['campaign_start_date'] = df['campaign_start_date'].fillna(method='ffill')\n",
        "print(df)"
      ],
      "metadata": {
        "colab": {
          "base_uri": "https://localhost:8080/"
        },
        "id": "4xnOMthHxSX0",
        "outputId": "4f45f41e-ccb8-4d0d-c8f3-3052e6c67033"
      },
      "execution_count": null,
      "outputs": [
        {
          "output_type": "stream",
          "name": "stdout",
          "text": [
            "           dates                        campaign_name campaign_start_date  \\\n",
            "0     2024-04-29           USP_Search_APTNTSKA_250124                 NaT   \n",
            "1     2024-05-02  USP_2_Lead-gen-2_Top4-states_050424                 NaT   \n",
            "2     2024-05-02  USP_2_Lead-gen-2_Top4-states_050424                 NaT   \n",
            "3     2024-05-02  USP_2_Lead-gen-2_Top4-states_050424                 NaT   \n",
            "4     2024-05-02  USP_2_Lead-gen-2_Top4-states_050424                 NaT   \n",
            "...          ...                                  ...                 ...   \n",
            "28529 2024-03-12        USP_MS + Coop Campaign_240224          2023-11-09   \n",
            "28530 2024-03-12        USP_MS + Coop Campaign_240224          2023-11-09   \n",
            "28531 2024-03-12      USP Study Abroad_Generic_240224          2023-11-09   \n",
            "28532 2024-03-12      USP Study Abroad_Generic_240224          2023-11-09   \n",
            "28533 2024-03-12      USP Study Abroad_Generic_240224          2023-11-09   \n",
            "\n",
            "                           creative_name  total_spent  impressions  clicks  \\\n",
            "0                                     --      6766.15         1250     220   \n",
            "1       #7 ( Graphic ) - Get A Free Pass       946.38         3154       9   \n",
            "2               USP_S3_never-been-easier       170.40         2695       8   \n",
            "3                     USP_S4_Do-you-have        55.65          577       2   \n",
            "4                    USP_S1_We-guarantee       296.94         1466      10   \n",
            "...                                  ...          ...          ...     ...   \n",
            "28529                    USP_RG_VideoAd5        67.18          268       1   \n",
            "28530                    USP_RG_VideoAd5        50.65           75       1   \n",
            "28531  USP_Webinar_Saturdayfuture - Copy        11.34           28       0   \n",
            "28532  USP_Webinar_Saturdayfuture - Copy       136.97          134       0   \n",
            "28533         USP_Webinar_Saturdayfuture       242.59           24       0   \n",
            "\n",
            "       click_through_rate  leads  platform  \\\n",
            "0                0.176000   25.0    Google   \n",
            "1                0.285352    1.0  Facebook   \n",
            "2                0.296846    0.0  Facebook   \n",
            "3                0.346620    0.0  Facebook   \n",
            "4                0.682128    1.0  Facebook   \n",
            "...                   ...    ...       ...   \n",
            "28529            0.373134    0.0  Facebook   \n",
            "28530            1.333333    0.0  Facebook   \n",
            "28531            0.000000    0.0  Facebook   \n",
            "28532            0.000000    0.0  Facebook   \n",
            "28533            0.000000    0.0  Facebook   \n",
            "\n",
            "                                  adset_name  \n",
            "0                                   GMAT/GRE  \n",
            "1                         USP-2_KA_TN_050424  \n",
            "2                         USP-2_KA_TN_050424  \n",
            "3                         USP-2_KA_TN_050424  \n",
            "4                         USP-2_AP_TS_050424  \n",
            "...                                      ...  \n",
            "28529        MS + Coop KA&TN Ad set - 240224  \n",
            "28530    MS + Coop All India Ad set - 240224  \n",
            "28531      AP&TS Generic Leads Ad Set_240224  \n",
            "28532      KA&TN Generic Leads Ad Set_240224  \n",
            "28533  All India Generic Leads Ad Set_240224  \n",
            "\n",
            "[28534 rows x 11 columns]\n"
          ]
        }
      ]
    },
    {
      "cell_type": "code",
      "source": [
        "# Backward fill\n",
        "df['campaign_start_date'] = df['campaign_start_date'].fillna(method='bfill')\n",
        "print(df)"
      ],
      "metadata": {
        "colab": {
          "base_uri": "https://localhost:8080/"
        },
        "id": "4IxtwfpVxXrI",
        "outputId": "98d74830-073d-44e2-e0a3-2082e81a3122"
      },
      "execution_count": null,
      "outputs": [
        {
          "output_type": "stream",
          "name": "stdout",
          "text": [
            "           dates                        campaign_name campaign_start_date  \\\n",
            "0     2024-04-29           USP_Search_APTNTSKA_250124          2023-11-09   \n",
            "1     2024-05-02  USP_2_Lead-gen-2_Top4-states_050424          2023-11-09   \n",
            "2     2024-05-02  USP_2_Lead-gen-2_Top4-states_050424          2023-11-09   \n",
            "3     2024-05-02  USP_2_Lead-gen-2_Top4-states_050424          2023-11-09   \n",
            "4     2024-05-02  USP_2_Lead-gen-2_Top4-states_050424          2023-11-09   \n",
            "...          ...                                  ...                 ...   \n",
            "28529 2024-03-12        USP_MS + Coop Campaign_240224          2023-11-09   \n",
            "28530 2024-03-12        USP_MS + Coop Campaign_240224          2023-11-09   \n",
            "28531 2024-03-12      USP Study Abroad_Generic_240224          2023-11-09   \n",
            "28532 2024-03-12      USP Study Abroad_Generic_240224          2023-11-09   \n",
            "28533 2024-03-12      USP Study Abroad_Generic_240224          2023-11-09   \n",
            "\n",
            "                           creative_name  total_spent  impressions  clicks  \\\n",
            "0                                     --      6766.15         1250     220   \n",
            "1       #7 ( Graphic ) - Get A Free Pass       946.38         3154       9   \n",
            "2               USP_S3_never-been-easier       170.40         2695       8   \n",
            "3                     USP_S4_Do-you-have        55.65          577       2   \n",
            "4                    USP_S1_We-guarantee       296.94         1466      10   \n",
            "...                                  ...          ...          ...     ...   \n",
            "28529                    USP_RG_VideoAd5        67.18          268       1   \n",
            "28530                    USP_RG_VideoAd5        50.65           75       1   \n",
            "28531  USP_Webinar_Saturdayfuture - Copy        11.34           28       0   \n",
            "28532  USP_Webinar_Saturdayfuture - Copy       136.97          134       0   \n",
            "28533         USP_Webinar_Saturdayfuture       242.59           24       0   \n",
            "\n",
            "       click_through_rate  leads  platform  \\\n",
            "0                0.176000   25.0    Google   \n",
            "1                0.285352    1.0  Facebook   \n",
            "2                0.296846    0.0  Facebook   \n",
            "3                0.346620    0.0  Facebook   \n",
            "4                0.682128    1.0  Facebook   \n",
            "...                   ...    ...       ...   \n",
            "28529            0.373134    0.0  Facebook   \n",
            "28530            1.333333    0.0  Facebook   \n",
            "28531            0.000000    0.0  Facebook   \n",
            "28532            0.000000    0.0  Facebook   \n",
            "28533            0.000000    0.0  Facebook   \n",
            "\n",
            "                                  adset_name  \n",
            "0                                   GMAT/GRE  \n",
            "1                         USP-2_KA_TN_050424  \n",
            "2                         USP-2_KA_TN_050424  \n",
            "3                         USP-2_KA_TN_050424  \n",
            "4                         USP-2_AP_TS_050424  \n",
            "...                                      ...  \n",
            "28529        MS + Coop KA&TN Ad set - 240224  \n",
            "28530    MS + Coop All India Ad set - 240224  \n",
            "28531      AP&TS Generic Leads Ad Set_240224  \n",
            "28532      KA&TN Generic Leads Ad Set_240224  \n",
            "28533  All India Generic Leads Ad Set_240224  \n",
            "\n",
            "[28534 rows x 11 columns]\n"
          ]
        }
      ]
    },
    {
      "cell_type": "code",
      "source": [
        "\n",
        "# Function to calculate missing values by column# Funct\n",
        "def missing_values_table(df):\n",
        "        # Total missing values\n",
        "        mis_val = df.isnull().sum()\n",
        "\n",
        "        # Percentage of missing values\n",
        "        mis_val_percent = 100 * df.isnull().sum() / len(df)\n",
        "\n",
        "        # Make a table with the results\n",
        "        mis_val_table = pd.concat([mis_val, mis_val_percent], axis=1)\n",
        "\n",
        "        # Rename the columns\n",
        "        mis_val_table_ren_columns = mis_val_table.rename(\n",
        "        columns = {0 : 'Missing Values', 1 : '% of Total Values'})\n",
        "\n",
        "        # Sort the table by percentage of missing descending\n",
        "        mis_val_table_ren_columns = mis_val_table_ren_columns[\n",
        "            mis_val_table_ren_columns.iloc[:,1] != 0].sort_values(\n",
        "        '% of Total Values', ascending=False).round(1)\n",
        "\n",
        "        # Print some summary information\n",
        "        print (\"Your selected dataframe has \" + str(df.shape[1]) + \" columns.\\n\"\n",
        "            \"There are \" + str(mis_val_table_ren_columns.shape[0]) +\n",
        "              \" columns that have missing values.\")\n",
        "\n",
        "        # Return the dataframe with missing information\n",
        "        return mis_val_table_ren_columns\n"
      ],
      "metadata": {
        "id": "dPgLYiTG0XjQ"
      },
      "execution_count": null,
      "outputs": []
    },
    {
      "cell_type": "code",
      "source": [
        "# Missing values statistics\n",
        "missing_values = missing_values_table(df)\n",
        "missing_values.head(23)"
      ],
      "metadata": {
        "colab": {
          "base_uri": "https://localhost:8080/",
          "height": 178
        },
        "id": "Pe_IJ8ZBlxQF",
        "outputId": "71039933-869f-46e3-aa83-d34cc53fbfb3"
      },
      "execution_count": null,
      "outputs": [
        {
          "output_type": "stream",
          "name": "stdout",
          "text": [
            "Your selected dataframe has 11 columns.\n",
            "There are 3 columns that have missing values.\n"
          ]
        },
        {
          "output_type": "execute_result",
          "data": {
            "text/plain": [
              "                     Missing Values  % of Total Values\n",
              "adset_name                     4247               14.9\n",
              "campaign_start_date             561                2.0\n",
              "click_through_rate               37                0.1"
            ],
            "text/html": [
              "\n",
              "  <div id=\"df-de690308-76d7-421a-9ffe-d3eb2211c32d\" class=\"colab-df-container\">\n",
              "    <div>\n",
              "<style scoped>\n",
              "    .dataframe tbody tr th:only-of-type {\n",
              "        vertical-align: middle;\n",
              "    }\n",
              "\n",
              "    .dataframe tbody tr th {\n",
              "        vertical-align: top;\n",
              "    }\n",
              "\n",
              "    .dataframe thead th {\n",
              "        text-align: right;\n",
              "    }\n",
              "</style>\n",
              "<table border=\"1\" class=\"dataframe\">\n",
              "  <thead>\n",
              "    <tr style=\"text-align: right;\">\n",
              "      <th></th>\n",
              "      <th>Missing Values</th>\n",
              "      <th>% of Total Values</th>\n",
              "    </tr>\n",
              "  </thead>\n",
              "  <tbody>\n",
              "    <tr>\n",
              "      <th>adset_name</th>\n",
              "      <td>4247</td>\n",
              "      <td>14.9</td>\n",
              "    </tr>\n",
              "    <tr>\n",
              "      <th>campaign_start_date</th>\n",
              "      <td>561</td>\n",
              "      <td>2.0</td>\n",
              "    </tr>\n",
              "    <tr>\n",
              "      <th>click_through_rate</th>\n",
              "      <td>37</td>\n",
              "      <td>0.1</td>\n",
              "    </tr>\n",
              "  </tbody>\n",
              "</table>\n",
              "</div>\n",
              "    <div class=\"colab-df-buttons\">\n",
              "\n",
              "  <div class=\"colab-df-container\">\n",
              "    <button class=\"colab-df-convert\" onclick=\"convertToInteractive('df-de690308-76d7-421a-9ffe-d3eb2211c32d')\"\n",
              "            title=\"Convert this dataframe to an interactive table.\"\n",
              "            style=\"display:none;\">\n",
              "\n",
              "  <svg xmlns=\"http://www.w3.org/2000/svg\" height=\"24px\" viewBox=\"0 -960 960 960\">\n",
              "    <path d=\"M120-120v-720h720v720H120Zm60-500h600v-160H180v160Zm220 220h160v-160H400v160Zm0 220h160v-160H400v160ZM180-400h160v-160H180v160Zm440 0h160v-160H620v160ZM180-180h160v-160H180v160Zm440 0h160v-160H620v160Z\"/>\n",
              "  </svg>\n",
              "    </button>\n",
              "\n",
              "  <style>\n",
              "    .colab-df-container {\n",
              "      display:flex;\n",
              "      gap: 12px;\n",
              "    }\n",
              "\n",
              "    .colab-df-convert {\n",
              "      background-color: #E8F0FE;\n",
              "      border: none;\n",
              "      border-radius: 50%;\n",
              "      cursor: pointer;\n",
              "      display: none;\n",
              "      fill: #1967D2;\n",
              "      height: 32px;\n",
              "      padding: 0 0 0 0;\n",
              "      width: 32px;\n",
              "    }\n",
              "\n",
              "    .colab-df-convert:hover {\n",
              "      background-color: #E2EBFA;\n",
              "      box-shadow: 0px 1px 2px rgba(60, 64, 67, 0.3), 0px 1px 3px 1px rgba(60, 64, 67, 0.15);\n",
              "      fill: #174EA6;\n",
              "    }\n",
              "\n",
              "    .colab-df-buttons div {\n",
              "      margin-bottom: 4px;\n",
              "    }\n",
              "\n",
              "    [theme=dark] .colab-df-convert {\n",
              "      background-color: #3B4455;\n",
              "      fill: #D2E3FC;\n",
              "    }\n",
              "\n",
              "    [theme=dark] .colab-df-convert:hover {\n",
              "      background-color: #434B5C;\n",
              "      box-shadow: 0px 1px 3px 1px rgba(0, 0, 0, 0.15);\n",
              "      filter: drop-shadow(0px 1px 2px rgba(0, 0, 0, 0.3));\n",
              "      fill: #FFFFFF;\n",
              "    }\n",
              "  </style>\n",
              "\n",
              "    <script>\n",
              "      const buttonEl =\n",
              "        document.querySelector('#df-de690308-76d7-421a-9ffe-d3eb2211c32d button.colab-df-convert');\n",
              "      buttonEl.style.display =\n",
              "        google.colab.kernel.accessAllowed ? 'block' : 'none';\n",
              "\n",
              "      async function convertToInteractive(key) {\n",
              "        const element = document.querySelector('#df-de690308-76d7-421a-9ffe-d3eb2211c32d');\n",
              "        const dataTable =\n",
              "          await google.colab.kernel.invokeFunction('convertToInteractive',\n",
              "                                                    [key], {});\n",
              "        if (!dataTable) return;\n",
              "\n",
              "        const docLinkHtml = 'Like what you see? Visit the ' +\n",
              "          '<a target=\"_blank\" href=https://colab.research.google.com/notebooks/data_table.ipynb>data table notebook</a>'\n",
              "          + ' to learn more about interactive tables.';\n",
              "        element.innerHTML = '';\n",
              "        dataTable['output_type'] = 'display_data';\n",
              "        await google.colab.output.renderOutput(dataTable, element);\n",
              "        const docLink = document.createElement('div');\n",
              "        docLink.innerHTML = docLinkHtml;\n",
              "        element.appendChild(docLink);\n",
              "      }\n",
              "    </script>\n",
              "  </div>\n",
              "\n",
              "\n",
              "<div id=\"df-d7dcdaaf-f580-42a4-afd9-18a294b58fbb\">\n",
              "  <button class=\"colab-df-quickchart\" onclick=\"quickchart('df-d7dcdaaf-f580-42a4-afd9-18a294b58fbb')\"\n",
              "            title=\"Suggest charts\"\n",
              "            style=\"display:none;\">\n",
              "\n",
              "<svg xmlns=\"http://www.w3.org/2000/svg\" height=\"24px\"viewBox=\"0 0 24 24\"\n",
              "     width=\"24px\">\n",
              "    <g>\n",
              "        <path d=\"M19 3H5c-1.1 0-2 .9-2 2v14c0 1.1.9 2 2 2h14c1.1 0 2-.9 2-2V5c0-1.1-.9-2-2-2zM9 17H7v-7h2v7zm4 0h-2V7h2v10zm4 0h-2v-4h2v4z\"/>\n",
              "    </g>\n",
              "</svg>\n",
              "  </button>\n",
              "\n",
              "<style>\n",
              "  .colab-df-quickchart {\n",
              "      --bg-color: #E8F0FE;\n",
              "      --fill-color: #1967D2;\n",
              "      --hover-bg-color: #E2EBFA;\n",
              "      --hover-fill-color: #174EA6;\n",
              "      --disabled-fill-color: #AAA;\n",
              "      --disabled-bg-color: #DDD;\n",
              "  }\n",
              "\n",
              "  [theme=dark] .colab-df-quickchart {\n",
              "      --bg-color: #3B4455;\n",
              "      --fill-color: #D2E3FC;\n",
              "      --hover-bg-color: #434B5C;\n",
              "      --hover-fill-color: #FFFFFF;\n",
              "      --disabled-bg-color: #3B4455;\n",
              "      --disabled-fill-color: #666;\n",
              "  }\n",
              "\n",
              "  .colab-df-quickchart {\n",
              "    background-color: var(--bg-color);\n",
              "    border: none;\n",
              "    border-radius: 50%;\n",
              "    cursor: pointer;\n",
              "    display: none;\n",
              "    fill: var(--fill-color);\n",
              "    height: 32px;\n",
              "    padding: 0;\n",
              "    width: 32px;\n",
              "  }\n",
              "\n",
              "  .colab-df-quickchart:hover {\n",
              "    background-color: var(--hover-bg-color);\n",
              "    box-shadow: 0 1px 2px rgba(60, 64, 67, 0.3), 0 1px 3px 1px rgba(60, 64, 67, 0.15);\n",
              "    fill: var(--button-hover-fill-color);\n",
              "  }\n",
              "\n",
              "  .colab-df-quickchart-complete:disabled,\n",
              "  .colab-df-quickchart-complete:disabled:hover {\n",
              "    background-color: var(--disabled-bg-color);\n",
              "    fill: var(--disabled-fill-color);\n",
              "    box-shadow: none;\n",
              "  }\n",
              "\n",
              "  .colab-df-spinner {\n",
              "    border: 2px solid var(--fill-color);\n",
              "    border-color: transparent;\n",
              "    border-bottom-color: var(--fill-color);\n",
              "    animation:\n",
              "      spin 1s steps(1) infinite;\n",
              "  }\n",
              "\n",
              "  @keyframes spin {\n",
              "    0% {\n",
              "      border-color: transparent;\n",
              "      border-bottom-color: var(--fill-color);\n",
              "      border-left-color: var(--fill-color);\n",
              "    }\n",
              "    20% {\n",
              "      border-color: transparent;\n",
              "      border-left-color: var(--fill-color);\n",
              "      border-top-color: var(--fill-color);\n",
              "    }\n",
              "    30% {\n",
              "      border-color: transparent;\n",
              "      border-left-color: var(--fill-color);\n",
              "      border-top-color: var(--fill-color);\n",
              "      border-right-color: var(--fill-color);\n",
              "    }\n",
              "    40% {\n",
              "      border-color: transparent;\n",
              "      border-right-color: var(--fill-color);\n",
              "      border-top-color: var(--fill-color);\n",
              "    }\n",
              "    60% {\n",
              "      border-color: transparent;\n",
              "      border-right-color: var(--fill-color);\n",
              "    }\n",
              "    80% {\n",
              "      border-color: transparent;\n",
              "      border-right-color: var(--fill-color);\n",
              "      border-bottom-color: var(--fill-color);\n",
              "    }\n",
              "    90% {\n",
              "      border-color: transparent;\n",
              "      border-bottom-color: var(--fill-color);\n",
              "    }\n",
              "  }\n",
              "</style>\n",
              "\n",
              "  <script>\n",
              "    async function quickchart(key) {\n",
              "      const quickchartButtonEl =\n",
              "        document.querySelector('#' + key + ' button');\n",
              "      quickchartButtonEl.disabled = true;  // To prevent multiple clicks.\n",
              "      quickchartButtonEl.classList.add('colab-df-spinner');\n",
              "      try {\n",
              "        const charts = await google.colab.kernel.invokeFunction(\n",
              "            'suggestCharts', [key], {});\n",
              "      } catch (error) {\n",
              "        console.error('Error during call to suggestCharts:', error);\n",
              "      }\n",
              "      quickchartButtonEl.classList.remove('colab-df-spinner');\n",
              "      quickchartButtonEl.classList.add('colab-df-quickchart-complete');\n",
              "    }\n",
              "    (() => {\n",
              "      let quickchartButtonEl =\n",
              "        document.querySelector('#df-d7dcdaaf-f580-42a4-afd9-18a294b58fbb button');\n",
              "      quickchartButtonEl.style.display =\n",
              "        google.colab.kernel.accessAllowed ? 'block' : 'none';\n",
              "    })();\n",
              "  </script>\n",
              "</div>\n",
              "\n",
              "    </div>\n",
              "  </div>\n"
            ],
            "application/vnd.google.colaboratory.intrinsic+json": {
              "type": "dataframe",
              "variable_name": "missing_values",
              "summary": "{\n  \"name\": \"missing_values\",\n  \"rows\": 3,\n  \"fields\": [\n    {\n      \"column\": \"Missing Values\",\n      \"properties\": {\n        \"dtype\": \"number\",\n        \"std\": 2294,\n        \"min\": 37,\n        \"max\": 4247,\n        \"num_unique_values\": 3,\n        \"samples\": [\n          4247,\n          561,\n          37\n        ],\n        \"semantic_type\": \"\",\n        \"description\": \"\"\n      }\n    },\n    {\n      \"column\": \"% of Total Values\",\n      \"properties\": {\n        \"dtype\": \"number\",\n        \"std\": 8.052535832477453,\n        \"min\": 0.1,\n        \"max\": 14.9,\n        \"num_unique_values\": 3,\n        \"samples\": [\n          14.9,\n          2.0,\n          0.1\n        ],\n        \"semantic_type\": \"\",\n        \"description\": \"\"\n      }\n    }\n  ]\n}"
            }
          },
          "metadata": {},
          "execution_count": 12
        }
      ]
    },
    {
      "cell_type": "code",
      "source": [
        "# Number of each type of column\n",
        "df.dtypes.value_counts()"
      ],
      "metadata": {
        "colab": {
          "base_uri": "https://localhost:8080/"
        },
        "id": "B5ACOwzfmgcB",
        "outputId": "41457cd8-085a-499e-9968-617adb68a477"
      },
      "execution_count": null,
      "outputs": [
        {
          "output_type": "execute_result",
          "data": {
            "text/plain": [
              "object            4\n",
              "float64           3\n",
              "datetime64[ns]    2\n",
              "int64             2\n",
              "Name: count, dtype: int64"
            ]
          },
          "metadata": {},
          "execution_count": 13
        }
      ]
    },
    {
      "cell_type": "code",
      "source": [
        "\n",
        "# Number of unique classes in each object column\n",
        "df.select_dtypes('object').apply(pd.Series.nunique, axis = 0)\n"
      ],
      "metadata": {
        "colab": {
          "base_uri": "https://localhost:8080/"
        },
        "id": "YH4esA7EmlzM",
        "outputId": "85b6711f-ca15-442a-aa9e-f409080fbb0f"
      },
      "execution_count": null,
      "outputs": [
        {
          "output_type": "execute_result",
          "data": {
            "text/plain": [
              "campaign_name     41\n",
              "creative_name    146\n",
              "platform           3\n",
              "adset_name        69\n",
              "dtype: int64"
            ]
          },
          "metadata": {},
          "execution_count": 15
        }
      ]
    },
    {
      "cell_type": "code",
      "source": [
        "#To check number of uniqe elements in each columns.\n",
        "df.nunique()"
      ],
      "metadata": {
        "id": "YrGofpvGmuNi",
        "outputId": "a5f8d880-7380-41d3-c37e-76f736b94327",
        "colab": {
          "base_uri": "https://localhost:8080/"
        }
      },
      "execution_count": null,
      "outputs": [
        {
          "output_type": "execute_result",
          "data": {
            "text/plain": [
              "dates                    184\n",
              "campaign_name             41\n",
              "campaign_start_date        3\n",
              "creative_name            146\n",
              "total_spent            17208\n",
              "impressions             6579\n",
              "clicks                   497\n",
              "click_through_rate      7006\n",
              "leads                    124\n",
              "platform                   3\n",
              "adset_name                69\n",
              "dtype: int64"
            ]
          },
          "metadata": {},
          "execution_count": 14
        }
      ]
    },
    {
      "cell_type": "code",
      "source": [
        "# Check for duplicate total_spent\n",
        "duplicate_total_spent = data['total_spent'].duplicated().sum()\n",
        "if duplicate_total_spent > 0:\n",
        "    print(f'There are {duplicate_total_spent} duplicate total_spent.')\n",
        "else:\n",
        "    print('There are no duplicate total_spent.')\n"
      ],
      "metadata": {
        "id": "36tFRgJDmxcT",
        "colab": {
          "base_uri": "https://localhost:8080/"
        },
        "outputId": "0e1f144a-2a5e-4f67-dda9-a59d75654f59"
      },
      "execution_count": null,
      "outputs": [
        {
          "output_type": "stream",
          "name": "stdout",
          "text": [
            "There are 11326 duplicate total_spent.\n"
          ]
        }
      ]
    },
    {
      "cell_type": "code",
      "source": [
        "# Find the maximum total spent\n",
        "max_total_spent = data['total_spent'].max()\n",
        "\n",
        "# Locate the campaign with the highest total spent\n",
        "campaign_with_max_spent = data[data['total_spent'] == max_total_spent]\n",
        "\n",
        "print(campaign_with_max_spent)"
      ],
      "metadata": {
        "colab": {
          "base_uri": "https://localhost:8080/"
        },
        "id": "754c67uZlWOT",
        "outputId": "fc6b5428-6c4b-49d9-eaca-4312259a4a6f"
      },
      "execution_count": null,
      "outputs": [
        {
          "output_type": "stream",
          "name": "stdout",
          "text": [
            "           dates               campaign_name campaign_start_date  \\\n",
            "16404 2024-03-07  USP_Search_APTNTSKA_250124                 NaT   \n",
            "\n",
            "      creative_name  total_spent  impressions  clicks  click_through_rate  \\\n",
            "16404            --     27125.36         3006     136              0.0452   \n",
            "\n",
            "       leads platform adset_name  \n",
            "16404    3.0   Google   GMAT/GRE  \n"
          ]
        }
      ]
    },
    {
      "cell_type": "code",
      "source": [
        "max_total_spent = data['total_spent'].max()"
      ],
      "metadata": {
        "id": "EY9OdBXdljvW"
      },
      "execution_count": null,
      "outputs": []
    },
    {
      "cell_type": "code",
      "source": [
        "# Get unique values and their counts in the total_spent column\n",
        "unique_total_spent = data['total_spent'].value_counts(dropna=False)\n",
        "# Print the number of unique values\n",
        "num_unique_total_spent = unique_total_spent.size\n",
        "print(f'There are {num_unique_total_spent} unique values in the total_spentcolumn.')"
      ],
      "metadata": {
        "colab": {
          "base_uri": "https://localhost:8080/"
        },
        "id": "TG958pBDlqWk",
        "outputId": "0993957f-0ff4-40ba-d87c-6392055c0e49"
      },
      "execution_count": null,
      "outputs": [
        {
          "output_type": "stream",
          "name": "stdout",
          "text": [
            "There are 17208 unique values in the total_spentcolumn.\n"
          ]
        }
      ]
    },
    {
      "cell_type": "code",
      "source": [
        "# Boxplot\n",
        "plt.figure(figsize=(10, 5))\n",
        "sns.boxplot(x=data['total_spent'])\n",
        "plt.title('Boxplot of Total Spent')\n",
        "plt.xlabel('Total Spent')\n",
        "plt.show()"
      ],
      "metadata": {
        "colab": {
          "base_uri": "https://localhost:8080/",
          "height": 376
        },
        "id": "ibLe19KIuQ_f",
        "outputId": "cf86d9e7-54a4-44be-f6fa-feb164bdcc4b"
      },
      "execution_count": null,
      "outputs": [
        {
          "output_type": "display_data",
          "data": {
            "text/plain": [
              "<Figure size 1000x500 with 1 Axes>"
            ],
            "image/png": "[encoded data removed]"
          },
          "metadata": {}
        }
      ]
    },
    {
      "cell_type": "code",
      "source": [
        "# Density Plot\n",
        "plt.figure(figsize=(10, 5))\n",
        "sns.kdeplot(data['total_spent'], shade=True)\n",
        "plt.title('Density Plot of Total Spent')\n",
        "plt.xlabel('Total Spent')\n",
        "plt.ylabel('Density')\n",
        "plt.show()"
      ],
      "metadata": {
        "colab": {
          "base_uri": "https://localhost:8080/",
          "height": 351
        },
        "id": "BRONS4u4uWzw",
        "outputId": "62829f29-a619-4618-e094-699e5d24bb1b"
      },
      "execution_count": null,
      "outputs": [
        {
          "output_type": "display_data",
          "data": {
            "text/plain": [
              "<Figure size 1000x500 with 1 Axes>"
            ],
            "image/png": "[encoded data removed]"
          },
          "metadata": {}
        }
      ]
    },
    {
      "cell_type": "code",
      "source": [
        "# Skewness\n",
        "skewness = data['total_spent'].skew()\n",
        "print(f'Skewness of Total Spent: {skewness}')"
      ],
      "metadata": {
        "colab": {
          "base_uri": "https://localhost:8080/"
        },
        "id": "QXnUgaB6ulVw",
        "outputId": "7b34551d-b6a4-456d-8faa-7e4162526179"
      },
      "execution_count": null,
      "outputs": [
        {
          "output_type": "stream",
          "name": "stdout",
          "text": [
            "Skewness of Total Spent: 6.210447856078035\n"
          ]
        }
      ]
    },
    {
      "cell_type": "code",
      "source": [
        "# Kurtosis\n",
        "kurtosis = data['total_spent'].kurtosis()\n",
        "print(f'Kurtosis of Total Spent: {kurtosis}')"
      ],
      "metadata": {
        "colab": {
          "base_uri": "https://localhost:8080/"
        },
        "id": "KwoJn4Snumxw",
        "outputId": "71461701-ad69-4f79-8a2d-316efd5bc805"
      },
      "execution_count": null,
      "outputs": [
        {
          "output_type": "stream",
          "name": "stdout",
          "text": [
            "Kurtosis of Total Spent: 57.750628511264765\n"
          ]
        }
      ]
    },
    {
      "cell_type": "code",
      "source": [
        "from scipy import stats\n",
        "import numpy as np\n",
        "def count_outliers_zscore(data, column, threshold=3):\n",
        "    z_scores = np.abs(stats.zscore(data[column]))\n",
        "    outliers = np.where(z_scores > threshold)[0]\n",
        "    return len(outliers)\n",
        "\n",
        "# Example for total_spent\n",
        "total_spent_outliers = count_outliers_zscore(data, 'total_spent')\n",
        "print(f'Total spent outliers (Z-score): {total_spent_outliers}')\n"
      ],
      "metadata": {
        "colab": {
          "base_uri": "https://localhost:8080/"
        },
        "id": "rqyYus9v40gW",
        "outputId": "d80b396f-1955-4afb-c36c-a7ef7f02a2bd"
      },
      "execution_count": null,
      "outputs": [
        {
          "output_type": "stream",
          "name": "stdout",
          "text": [
            "Total spent outliers (Z-score): 595\n"
          ]
        }
      ]
    },
    {
      "cell_type": "code",
      "source": [
        "def count_outliers_iqr(data, column):\n",
        "    Q1 = data[column].quantile(0.25)\n",
        "    Q3 = data[column].quantile(0.75)\n",
        "    IQR = Q3 - Q1\n",
        "    lower_bound = Q1 - 1.5 * IQR\n",
        "    upper_bound = Q3 + 1.5 * IQR\n",
        "    outliers = data[(data[column] < lower_bound) | (data[column] > upper_bound)]\n",
        "    return outliers.shape[0]\n",
        "\n",
        "# Example for total_spent\n",
        "total_spent_outliers_iqr = count_outliers_iqr(data, 'total_spent')\n",
        "print(f'Total spent outliers (IQR): {total_spent_outliers_iqr}')"
      ],
      "metadata": {
        "colab": {
          "base_uri": "https://localhost:8080/"
        },
        "id": "NveQR-zv5FS9",
        "outputId": "f993e5f1-82b5-45f3-ac0a-f36584728c6e"
      },
      "execution_count": null,
      "outputs": [
        {
          "output_type": "stream",
          "name": "stdout",
          "text": [
            "Total spent outliers (IQR): 3936\n"
          ]
        }
      ]
    },
    {
      "cell_type": "code",
      "source": [
        "from sklearn.ensemble import IsolationForest\n",
        "\n",
        "def count_outliers_isolation_forest(data, column):\n",
        "    iso_forest = IsolationForest(contamination=0.1, random_state=42)\n",
        "    predictions = iso_forest.fit_predict(data[[column]])\n",
        "    outliers = (predictions == -1).sum()\n",
        "    return outliers\n",
        "\n",
        "# Example for total_spent\n",
        "total_spent_outliers_iso = count_outliers_isolation_forest(data, 'total_spent')\n",
        "print(f'Total spent outliers (Isolation Forest): {total_spent_outliers_iso}')"
      ],
      "metadata": {
        "colab": {
          "base_uri": "https://localhost:8080/"
        },
        "id": "q_lbQO777lzS",
        "outputId": "66ce5159-531e-4b62-ad65-dc89dceeadb4"
      },
      "execution_count": null,
      "outputs": [
        {
          "output_type": "stream",
          "name": "stdout",
          "text": [
            "Total spent outliers (Isolation Forest): 2854\n"
          ]
        }
      ]
    },
    {
      "cell_type": "code",
      "source": [
        "from sklearn.neighbors import LocalOutlierFactor\n",
        "\n",
        "def count_outliers_lof(data, column):\n",
        "    lof = LocalOutlierFactor(n_neighbors=20, contamination=0.1)\n",
        "    predictions = lof.fit_predict(data[[column]])\n",
        "    outliers = (predictions == -1).sum()\n",
        "    return outliers\n",
        "\n",
        "# Example for total_spent\n",
        "total_spent_outliers_lof = count_outliers_lof(data, 'total_spent')\n",
        "print(f'Total spent outliers (LOF): {total_spent_outliers_lof}')"
      ],
      "metadata": {
        "colab": {
          "base_uri": "https://localhost:8080/"
        },
        "id": "Iea6TA2l7v41",
        "outputId": "146a6ce0-c3e3-4cfb-ceff-675eec6380d1"
      },
      "execution_count": null,
      "outputs": [
        {
          "output_type": "stream",
          "name": "stdout",
          "text": [
            "Total spent outliers (LOF): 2854\n"
          ]
        }
      ]
    },
    {
      "cell_type": "code",
      "source": [
        "from sklearn.cluster import DBSCAN\n",
        "import numpy as np\n",
        "\n",
        "def count_outliers_dbscan(data, column, eps=0.5, min_samples=5):\n",
        "    db = DBSCAN(eps=eps, min_samples=min_samples)\n",
        "    labels = db.fit_predict(data[[column]])\n",
        "    # DBSCAN labels outliers as -1\n",
        "    outliers = np.sum(labels == -1)\n",
        "    return outliers\n",
        "\n",
        "# Example for total_spent\n",
        "total_spent_outliers_dbscan = count_outliers_dbscan(data, 'total_spent', eps=0.5, min_samples=5)\n",
        "print(f'Total spent outliers (DBSCAN): {total_spent_outliers_dbscan}')"
      ],
      "metadata": {
        "colab": {
          "base_uri": "https://localhost:8080/"
        },
        "id": "pDw7rh_-8C-z",
        "outputId": "ebc5ef78-84db-46e9-e002-51f5ba7b3637"
      },
      "execution_count": null,
      "outputs": [
        {
          "output_type": "stream",
          "name": "stdout",
          "text": [
            "Total spent outliers (DBSCAN): 3858\n"
          ]
        }
      ]
    },
    {
      "cell_type": "code",
      "source": [
        "def winsorize_series(series, lower_quantile=0.05, upper_quantile=0.95):\n",
        "    lower_bound = series.quantile(lower_quantile)\n",
        "    upper_bound = series.quantile(upper_quantile)\n",
        "    return series.clip(lower_bound, upper_bound)\n",
        "\n",
        "# Example for total_spent\n",
        "data['total_spent_winsorized'] = winsorize_series(data['total_spent'])\n",
        "print(data[['total_spent', 'total_spent_winsorized']].describe())"
      ],
      "metadata": {
        "id": "v9nBlyQa8Ud2",
        "outputId": "be1524ab-ae15-4266-a90c-d1b71bbf2b9f",
        "colab": {
          "base_uri": "https://localhost:8080/"
        }
      },
      "execution_count": null,
      "outputs": [
        {
          "output_type": "stream",
          "name": "stdout",
          "text": [
            "        total_spent  total_spent_winsorized\n",
            "count  28534.000000            28534.000000\n",
            "mean     554.604671              411.873255\n",
            "std     1460.307139              730.325287\n",
            "min        0.000000                0.080000\n",
            "25%        5.430000                5.430000\n",
            "50%       53.285000               53.285000\n",
            "75%      430.692500              430.692500\n",
            "max    27125.360000             2695.521500\n"
          ]
        }
      ]
    },
    {
      "cell_type": "code",
      "source": [
        "def log_transform(series):\n",
        "    # Adding a small constant to avoid log(0)\n",
        "    return np.log1p(series)\n",
        "\n",
        "# Example for total_spent\n",
        "data['total_spent_log'] = log_transform(data['total_spent'])\n",
        "print(data[['total_spent', 'total_spent_log']].describe())"
      ],
      "metadata": {
        "colab": {
          "base_uri": "https://localhost:8080/"
        },
        "id": "qAlA1kc53D-o",
        "outputId": "681e7c4f-d11f-496a-b3e2-645359c6cb39"
      },
      "execution_count": null,
      "outputs": [
        {
          "output_type": "stream",
          "name": "stdout",
          "text": [
            "        total_spent  total_spent_log\n",
            "count  28534.000000     28534.000000\n",
            "mean     554.604671         3.978676\n",
            "std     1460.307139         2.497064\n",
            "min        0.000000         0.000000\n",
            "25%        5.430000         1.860975\n",
            "50%       53.285000         3.994248\n",
            "75%      430.692500         6.067714\n",
            "max    27125.360000        10.208261\n"
          ]
        }
      ]
    },
    {
      "cell_type": "code",
      "source": [
        "def sqrt_transform(series):\n",
        "    return np.sqrt(series)\n",
        "\n",
        "# Example for total_spent\n",
        "data['total_spent_sqrt'] = sqrt_transform(data['total_spent'])\n",
        "print(data[['total_spent', 'total_spent_sqrt']].describe())"
      ],
      "metadata": {
        "colab": {
          "base_uri": "https://localhost:8080/"
        },
        "id": "bGJ_Ykpp3WsB",
        "outputId": "969279a8-3c10-4786-bb6b-7a8da0b3d33c"
      },
      "execution_count": null,
      "outputs": [
        {
          "output_type": "stream",
          "name": "stdout",
          "text": [
            "        total_spent  total_spent_sqrt\n",
            "count  28534.000000      28534.000000\n",
            "mean     554.604671         14.675697\n",
            "std     1460.307139         18.418482\n",
            "min        0.000000          0.000000\n",
            "25%        5.430000          2.330236\n",
            "50%       53.285000          7.299658\n",
            "75%      430.692500         20.753132\n",
            "max    27125.360000        164.697784\n"
          ]
        }
      ]
    },
    {
      "cell_type": "code",
      "source": [
        "import pandas as pd\n",
        "\n",
        "def winsorize_series(series, lower_quantile=0.05, upper_quantile=0.95):\n",
        "    lower_bound = series.quantile(lower_quantile)\n",
        "    upper_bound = series.quantile(upper_quantile)\n",
        "    return series.clip(lower_bound, upper_bound)\n",
        "\n",
        "# Load your data into a DataFrame (assuming your data is in a DataFrame named 'data')\n",
        "# data = pd.read_csv('your_dataset.csv')  # Uncomment this line if you're loading data from a CSV file\n",
        "\n",
        "# Apply Winsorizing to the total_spent column\n",
        "data['total_spent_winsorized'] = winsorize_series(data['total_spent'], lower_quantile=0.05, upper_quantile=0.95)\n",
        "\n",
        "# Summary statistics before and after Winsorizing\n",
        "print(data[['total_spent', 'total_spent_winsorized']].describe())\n",
        "\n",
        "# Check the number of values changed by Winsorizing\n",
        "outliers_winsorized = (data['total_spent'] != data['total_spent_winsorized']).sum()\n",
        "print(f'Number of outliers adjusted by Winsorizing: {outliers_winsorized}')\n"
      ],
      "metadata": {
        "colab": {
          "base_uri": "https://localhost:8080/"
        },
        "id": "nFzU_u3P3fFV",
        "outputId": "5cbf7a48-7bc5-4507-892b-b9060df004fc"
      },
      "execution_count": null,
      "outputs": [
        {
          "output_type": "stream",
          "name": "stdout",
          "text": [
            "        total_spent  total_spent_winsorized\n",
            "count  28534.000000            28534.000000\n",
            "mean     554.604671              411.873255\n",
            "std     1460.307139              730.325287\n",
            "min        0.000000                0.080000\n",
            "25%        5.430000                5.430000\n",
            "50%       53.285000               53.285000\n",
            "75%      430.692500              430.692500\n",
            "max    27125.360000             2695.521500\n",
            "Number of outliers adjusted by Winsorizing: 2805\n"
          ]
        }
      ]
    },
    {
      "cell_type": "code",
      "source": [
        "# Skewness\n",
        "skewness = data['impressions'].skew()\n",
        "print(f'Skewness of impressions: {skewness}')"
      ],
      "metadata": {
        "colab": {
          "base_uri": "https://localhost:8080/"
        },
        "id": "WJO1HdR45RNc",
        "outputId": "641e0515-670f-4e72-a156-57314374bfb0"
      },
      "execution_count": null,
      "outputs": [
        {
          "output_type": "stream",
          "name": "stdout",
          "text": [
            "Skewness of impressions: 9.707668562591975\n"
          ]
        }
      ]
    },
    {
      "cell_type": "code",
      "source": [
        "column = 'impressions'\n",
        "\n",
        "# Plot Density Plot\n",
        "plt.figure(figsize=(12, 6))\n",
        "sns.kdeplot(data[column], shade=True)\n",
        "plt.title(f'Density Plot of {column}')\n",
        "plt.xlabel(column)\n",
        "plt.ylabel('Density')\n",
        "plt.show()"
      ],
      "metadata": {
        "colab": {
          "base_uri": "https://localhost:8080/",
          "height": 622
        },
        "id": "zbie7IJ5NuVe",
        "outputId": "9f761232-27a6-4e24-9a43-84f3f9ed5fd3"
      },
      "execution_count": null,
      "outputs": [
        {
          "output_type": "display_data",
          "data": {
            "text/plain": [
              "<Figure size 1200x600 with 1 Axes>"
            ],
            "image/png": "[encoded data removed]"
          },
          "metadata": {}
        }
      ]
    },
    {
      "cell_type": "code",
      "source": [
        "# Get the highest value in the impressions column\n",
        "max_impressions = data['impressions'].max()\n",
        "print(f'The highest value in the impressions column is: {max_impressions}')"
      ],
      "metadata": {
        "id": "KWslMceFOkRc",
        "colab": {
          "base_uri": "https://localhost:8080/"
        },
        "outputId": "d0f906cc-7c25-44c1-a7c4-d721c9b658e4"
      },
      "execution_count": null,
      "outputs": [
        {
          "output_type": "stream",
          "name": "stdout",
          "text": [
            "The highest value in the impressions column is: 196585\n"
          ]
        }
      ]
    },
    {
      "cell_type": "code",
      "source": [
        "# Get the row with the highest value in the impressions column\n",
        "max_impressions_row = data[data['impressions'] == max_impressions]\n",
        "print('The row with the highest impressions value is:')\n",
        "print(max_impressions_row)\n"
      ],
      "metadata": {
        "colab": {
          "base_uri": "https://localhost:8080/"
        },
        "id": "D8XtUNlHi4tN",
        "outputId": "8108c13b-e505-4036-9c4b-78a5046c1e2e"
      },
      "execution_count": null,
      "outputs": [
        {
          "output_type": "stream",
          "name": "stdout",
          "text": [
            "The row with the highest impressions value is:\n",
            "          dates                                campaign_name  \\\n",
            "2883 2024-03-21  USP_Marketing+MBA_New Leads Campaign_240224   \n",
            "\n",
            "     campaign_start_date               creative_name  total_spent  \\\n",
            "2883                 NaT  USP_kavita&steffi_VideoAd6     14139.61   \n",
            "\n",
            "      impressions  clicks  click_through_rate  leads  platform  \\\n",
            "2883       196585     712            0.362184   46.0  Facebook   \n",
            "\n",
            "                            adset_name  \n",
            "2883  Marketing+MBA All India - 240224  \n"
          ]
        }
      ]
    },
    {
      "cell_type": "code",
      "source": [
        "# Get the highest value in the clicks column\n",
        "max_clicks = data['clicks'].max()\n",
        "print(f'The highest value in the clicks column is: {max_clicks}')"
      ],
      "metadata": {
        "colab": {
          "base_uri": "https://localhost:8080/"
        },
        "id": "w5kNjezIjY5w",
        "outputId": "dafa68b5-69fe-4b40-ab41-cd0d5d528230"
      },
      "execution_count": null,
      "outputs": [
        {
          "output_type": "stream",
          "name": "stdout",
          "text": [
            "The highest value in the clicks column is: 3361\n"
          ]
        }
      ]
    },
    {
      "cell_type": "code",
      "source": [
        "# Get the row with the highest value in the clicks column\n",
        "max_clicks_row = data[data['clicks'] == max_clicks]\n",
        "print('The row with the highest clicks value is:')\n",
        "print(max_clicks_row)"
      ],
      "metadata": {
        "colab": {
          "base_uri": "https://localhost:8080/"
        },
        "id": "D8QoN6B-jlV1",
        "outputId": "4f9ec9cf-8634-4655-ebc3-a6fbdfc5a0d1"
      },
      "execution_count": null,
      "outputs": [
        {
          "output_type": "stream",
          "name": "stdout",
          "text": [
            "The row with the highest clicks value is:\n",
            "           dates                       campaign_name campaign_start_date  \\\n",
            "26761 2024-03-03  USP_Video_APTLTSKA_Lead-Gen_160224                 NaT   \n",
            "\n",
            "      creative_name  total_spent  impressions  clicks  click_through_rate  \\\n",
            "26761      RG Video     10055.15       127907    3361              0.0263   \n",
            "\n",
            "       leads platform                           adset_name  \n",
            "26761   12.0   Google  Combined_targeting_Generic_APTSTNKA  \n"
          ]
        }
      ]
    },
    {
      "cell_type": "code",
      "source": [
        "# Get the highest value in the click_through_rate column\n",
        "max_click_through_rate = data['click_through_rate'].max()\n",
        "print(f'The highest value in the click_through_rate column is: {max_click_through_rate}')"
      ],
      "metadata": {
        "id": "lkSPHD0vkC-X",
        "colab": {
          "base_uri": "https://localhost:8080/"
        },
        "outputId": "c93ce517-f53e-4885-936d-6940c018e85b"
      },
      "execution_count": null,
      "outputs": [
        {
          "output_type": "stream",
          "name": "stdout",
          "text": [
            "The highest value in the click_through_rate column is: 200.0\n"
          ]
        }
      ]
    },
    {
      "cell_type": "code",
      "source": [
        "# Get the row with the highest value in the click_through_rate column\n",
        "max_click_through_rate_row = data[data['click_through_rate'] == max_click_through_rate]\n",
        "print('The row with the highest click_through_rate value is:')\n",
        "print(max_click_through_rate_row)"
      ],
      "metadata": {
        "colab": {
          "base_uri": "https://localhost:8080/"
        },
        "id": "LVfB8wc_RFgH",
        "outputId": "7c006c63-d57d-4c57-921e-42f20ea59aba"
      },
      "execution_count": null,
      "outputs": [
        {
          "output_type": "stream",
          "name": "stdout",
          "text": [
            "The row with the highest click_through_rate value is:\n",
            "           dates                                      campaign_name  \\\n",
            "2714  2024-01-09      USP_Video_More_Volume_No Logic_India_New Link   \n",
            "12690 2023-12-25  CBO - USP Masterclass Cold [ 15th Dec ] - More...   \n",
            "21681 2024-01-25                            USP_2_Lead-gen-1_220124   \n",
            "25104 2024-01-23    USP_Program_Higher Intent_No Logic_India_220124   \n",
            "26863 2024-03-31                    USP Study Abroad_Generic_240224   \n",
            "\n",
            "      campaign_start_date                                      creative_name  \\\n",
            "2714                  NaT                            USP_Influencer_videoAd1   \n",
            "12690                 NaT  #5 ( Graphic ) - Get Master's Degree in Just 1...   \n",
            "21681                 NaT         #3 ( Graphic ) - Worried About GMAT Score?   \n",
            "25104                 NaT         #3 ( Graphic ) - Worried About GMAT Score?   \n",
            "26863                 NaT                                       USP_S7_Stony   \n",
            "\n",
            "       total_spent  impressions  clicks  click_through_rate  leads  platform  \\\n",
            "2714          3.48            2       4               200.0    1.0  Facebook   \n",
            "12690         0.32            1       2               200.0    1.0  Facebook   \n",
            "21681       337.27            1       2               200.0    1.0  Facebook   \n",
            "25104       547.85            1       2               200.0    1.0  Facebook   \n",
            "26863       323.99            1       2               200.0    1.0  Facebook   \n",
            "\n",
            "                                        adset_name  \n",
            "2714          Open Targeting - Advantage+ audience  \n",
            "12690          Related To Study In US [ 23rd Nov ]  \n",
            "21681  USP-2_Data_Job-title_India_exclude_KATNTSAP  \n",
            "25104                          Entrance Exam_India  \n",
            "26863     All India Counselling Look-a-like_290224  \n"
          ]
        }
      ]
    },
    {
      "cell_type": "code",
      "source": [
        "# Get the highest value in the leads column\n",
        "max_leads = data['leads'].max()\n",
        "print(f'The highest value in the leads column is: {max_leads}')"
      ],
      "metadata": {
        "colab": {
          "base_uri": "https://localhost:8080/"
        },
        "id": "-KTGrbq2Rg_w",
        "outputId": "5f781035-e464-4584-f134-c981b12e94d7"
      },
      "execution_count": null,
      "outputs": [
        {
          "output_type": "stream",
          "name": "stdout",
          "text": [
            "The highest value in the leads column is: 153.0\n"
          ]
        }
      ]
    },
    {
      "cell_type": "code",
      "source": [
        "# Get the row with the highest value in the leads column\n",
        "max_leads_row = data[data['leads'] == max_leads]\n",
        "print('The row with the highest leads value is:')\n",
        "print(max_leads_row)"
      ],
      "metadata": {
        "colab": {
          "base_uri": "https://localhost:8080/"
        },
        "id": "5dkMKZgtRv-g",
        "outputId": "acde1fe1-b6b6-4bda-89bd-f0673d0f3ce1"
      },
      "execution_count": null,
      "outputs": [
        {
          "output_type": "stream",
          "name": "stdout",
          "text": [
            "The row with the highest leads value is:\n",
            "           dates                  campaign_name campaign_start_date  \\\n",
            "21531 2024-03-20  USP_MS + Coop Campaign_240224                 NaT   \n",
            "\n",
            "           creative_name  total_spent  impressions  clicks  \\\n",
            "21531  USP_RIT_1_Getpaid      23219.6        95212     638   \n",
            "\n",
            "       click_through_rate  leads  platform  \\\n",
            "21531            0.670084  153.0  Facebook   \n",
            "\n",
            "                                adset_name  \n",
            "21531  MS + Coop All India Ad set - 240224  \n"
          ]
        }
      ]
    },
    {
      "cell_type": "code",
      "source": [
        "import pandas as pd\n",
        "\n",
        "# Get the campaign name with the highest count\n",
        "most_frequent_campaign = data['campaign_name'].value_counts().idxmax()\n",
        "most_frequent_campaign_count = data['campaign_name'].value_counts().max()\n",
        "\n",
        "print(f'The most frequently conducted campaign is: {most_frequent_campaign}')\n",
        "print(f'The number of times it was conducted: {most_frequent_campaign_count}')"
      ],
      "metadata": {
        "colab": {
          "base_uri": "https://localhost:8080/"
        },
        "id": "GfsTSuomSUJP",
        "outputId": "217e8e4f-63d3-48e5-d794-9ea0413f75bd"
      },
      "execution_count": null,
      "outputs": [
        {
          "output_type": "stream",
          "name": "stdout",
          "text": [
            "The most frequently conducted campaign is: USP Study Abroad_Generic_240224\n",
            "The number of times it was conducted: 4583\n"
          ]
        }
      ]
    },
    {
      "cell_type": "code",
      "source": [
        "# Get the highest value in the campaign_name column\n",
        "max_campaign_name = data['campaign_name'].max()\n",
        "print(f'The highest value in the campaign_name column is: {max_campaign_name}')"
      ],
      "metadata": {
        "colab": {
          "base_uri": "https://localhost:8080/"
        },
        "id": "hc9HRXAW09GH",
        "outputId": "90aa2857-31f5-4504-88e9-de7e815c2410"
      },
      "execution_count": null,
      "outputs": [
        {
          "output_type": "stream",
          "name": "stdout",
          "text": [
            "The highest value in the campaign_name column is: xCBO - USP Masterclass Cold [ 7th Dec ] - Higher Intent - No Logic -  new link India\n"
          ]
        }
      ]
    },
    {
      "cell_type": "code",
      "source": [
        "# Get the row with the highest value in the campaign_name column\n",
        "max_campaign_name_row = data[data['campaign_name'] == max_campaign_name]\n",
        "print('The row with the highest campaign_name value is:')\n",
        "print(max_campaign_name_row)"
      ],
      "metadata": {
        "colab": {
          "base_uri": "https://localhost:8080/"
        },
        "id": "lfk17NbX1L08",
        "outputId": "21befd2c-1a46-48cc-c5d7-70f164fd3a7d"
      },
      "execution_count": null,
      "outputs": [
        {
          "output_type": "stream",
          "name": "stdout",
          "text": [
            "The row with the highest campaign_name value is:\n",
            "           dates                                      campaign_name  \\\n",
            "8977  2023-12-08  xCBO - USP Masterclass Cold [ 7th Dec ] - High...   \n",
            "12332 2023-12-07  xCBO - USP Masterclass Cold [ 7th Dec ] - High...   \n",
            "12467 2023-12-08  xCBO - USP Masterclass Cold [ 7th Dec ] - High...   \n",
            "12468 2023-12-08  xCBO - USP Masterclass Cold [ 7th Dec ] - High...   \n",
            "12469 2023-12-07  xCBO - USP Masterclass Cold [ 7th Dec ] - High...   \n",
            "...          ...                                                ...   \n",
            "28308 2023-12-10  xCBO - USP Masterclass Cold [ 7th Dec ] - High...   \n",
            "28323 2023-12-10  xCBO - USP Masterclass Cold [ 7th Dec ] - High...   \n",
            "28397 2023-12-09  xCBO - USP Masterclass Cold [ 7th Dec ] - High...   \n",
            "28398 2023-12-09  xCBO - USP Masterclass Cold [ 7th Dec ] - High...   \n",
            "28410 2023-12-10  xCBO - USP Masterclass Cold [ 7th Dec ] - High...   \n",
            "\n",
            "      campaign_start_date                                      creative_name  \\\n",
            "8977                  NaT  #4 ( Graphic ) - How To Get Admmission In Your...   \n",
            "12332                 NaT                  #8 ( Graphic ) - Study in The USA   \n",
            "12467                 NaT      #10 ( Graphic ) - Get Into Top US Universitie   \n",
            "12468                 NaT      #2 ( Graphic ) - State University Of New York   \n",
            "12469                 NaT                  #8 ( Graphic ) - Study In The USA   \n",
            "...                   ...                                                ...   \n",
            "28308                 NaT  #5 ( Graphic ) - Get Master's Degree in Just 1...   \n",
            "28323                 NaT      #10 ( Graphic ) - Get Into Top US Universitie   \n",
            "28397                 NaT      #2 ( Graphic ) - State University Of New York   \n",
            "28398                 NaT  #1 ( Graphic ) - Want To Build Your Career In ...   \n",
            "28410                 NaT      #6 ( Graphic ) - Master's Degree In 12 Months   \n",
            "\n",
            "       total_spent  impressions  clicks  click_through_rate  leads  platform  \\\n",
            "8977          0.00            0       0                 NaN    0.0  Facebook   \n",
            "12332        90.38          304       3            0.986842    1.0  Facebook   \n",
            "12467         2.01            8       0            0.000000    0.0  Facebook   \n",
            "12468         6.38            7       1           14.285714    0.0  Facebook   \n",
            "12469       114.51          319       4            1.253918    1.0  Facebook   \n",
            "...            ...          ...     ...                 ...    ...       ...   \n",
            "28308         3.16           16       0            0.000000    0.0  Facebook   \n",
            "28323         0.14            1       0            0.000000    0.0  Facebook   \n",
            "28397        49.07          101       4            3.960396    1.0  Facebook   \n",
            "28398         9.57           12       0            0.000000    0.0  Facebook   \n",
            "28410      1754.43        11536      85            0.736824   16.0  Facebook   \n",
            "\n",
            "                                             adset_name  \n",
            "8977   Open Targeting - Advantage+ audience [ 7th Dec ]  \n",
            "12332                Related To Study In US [ 7th Dec ]  \n",
            "12467                         Entrance Exam [ 7th Dec ]  \n",
            "12468  Open Targeting - Advantage+ audience [ 7th Dec ]  \n",
            "12469                         Entrance Exam [ 7th Dec ]  \n",
            "...                                                 ...  \n",
            "28308                         Entrance Exam [ 7th Dec ]  \n",
            "28323                         Entrance Exam [ 7th Dec ]  \n",
            "28397                         Entrance Exam [ 7th Dec ]  \n",
            "28398                         Entrance Exam [ 7th Dec ]  \n",
            "28410                         Entrance Exam [ 7th Dec ]  \n",
            "\n",
            "[103 rows x 11 columns]\n"
          ]
        }
      ]
    },
    {
      "cell_type": "code",
      "source": [
        "# Group by campaign_name and calculate summary statistics for total_spent\n",
        "summary_stats = data.groupby('campaign_name')['total_spent'].describe()\n",
        "print(summary_stats)"
      ],
      "metadata": {
        "colab": {
          "base_uri": "https://localhost:8080/"
        },
        "id": "9Wfjrxvx2-Oz",
        "outputId": "093f03ec-6810-4193-a77f-5015d35fac97"
      },
      "execution_count": null,
      "outputs": [
        {
          "output_type": "stream",
          "name": "stdout",
          "text": [
            "                                                     count         mean  \\\n",
            "campaign_name                                                             \n",
            "CBO - USP Masterclass Cold [ 15th Dec ] - Highe...   515.0   362.525204   \n",
            "CBO - USP Masterclass Cold [ 15th Dec ] - More ...   800.0   171.041387   \n",
            "CBO - USP Masterclass Cold [ 23rd Nov ] - Highe...  1777.0   110.441964   \n",
            "CBO - USP Masterclass Cold [ 23rd Nov ] - More ...   898.0   283.244053   \n",
            "USP Masterclass Cold [ 14th Dec ] - Link Click Ad     80.0   130.656875   \n",
            "USP Masterclass Cold [ 23rd Nov ] - More volume...   587.0   209.314395   \n",
            "USP Masterclass Cold [ 31st Oct ] - Higher Inte...  1853.0   110.978408   \n",
            "USP Masterclass Cold [ 31st Oct ] - More Volume...   793.0   137.596015   \n",
            "USP Masterclass Cold [ 31st Oct ] - More volume...   830.0   111.429181   \n",
            "USP Study Abroad_Generic_240224                     4583.0   464.037582   \n",
            "USP_2_Lead-gen-1_220124                             1274.0   380.509152   \n",
            "USP_2_Lead-gen-2_Top4-states_050424                  741.0   262.346194   \n",
            "USP_COOP-Drexel_More_Volume_No Logic_India_240124    471.0   268.911592   \n",
            "USP_MS + Coop Campaign_240224                       1157.0  1297.355696   \n",
            "USP_Marketing+MBA_New Leads Campaign_240224          841.0  1338.199191   \n",
            "USP_Program_Higher Intent_No Logic_India_220124      362.0   281.398674   \n",
            "USP_Program_Higher Intent_No Logic_South-states...  1006.0   176.950815   \n",
            "USP_Program_Lead-gen_2_Generic_140223                492.0   164.283394   \n",
            "USP_Program_Lead-gen_3_Co-op_140223                  303.0   243.320495   \n",
            "USP_Program_Lead-gen_4_MAR&MBA_140223                194.0   385.039330   \n",
            "USP_Program_More-Volume_No Logic_India_220124        709.0   178.965346   \n",
            "USP_Program_More-Volume_No Logic_South-states_2...   423.0   299.370000   \n",
            "USP_Program_More-volume_With-Logic_India_220124      529.0   119.457505   \n",
            "USP_Program_More-volume_With-Logic_South-states...   703.0   155.235875   \n",
            "USP_Search_APTNTSKA_250124                           117.0  6748.471111   \n",
            "USP_Search_India-ex-APTNTSKA_250124                   68.0  2932.982794   \n",
            "USP_Video_ALL-India_Lead-Gen_Keywords_110324          20.0  1293.292500   \n",
            "USP_Video_APTLTSKA_Lead-Gen_160224                    59.0  1525.102881   \n",
            "USP_Video_APTLTSKA_Lead-Gen_Custom-intent_050324     108.0  1443.703981   \n",
            "USP_Video_APTLTSKA_Lead-Gen_Keywords_050324          108.0  1447.047778   \n",
            "USP_Video_APTLTSKA_Lead-Gen_Websites_050324          214.0   727.321822   \n",
            "USP_Video_India_EX-APTLTSKA_Lead-Gen_160224           63.0  1207.292381   \n",
            "USP_Video_More_Volume_No Logic_India_New Link        586.0   338.594249   \n",
            "USP_Webinar2_270324                                  193.0   791.456580   \n",
            "USP_Webinar_070324                                   444.0  1695.173446   \n",
            "US_Pathway_2_Lead_gen_1_091123                      1395.0  1350.583427   \n",
            "US_Pathway_2_Lead_gen_2_091123                      1190.0  1234.595454   \n",
            "US_Pathway_2_Lead_gen_3_241123                      1428.0  1224.851464   \n",
            "US_Pathway_2_Lead_gen_4_220324                       234.0   440.267692   \n",
            "xCBO - USP Masterclass Cold [ 23rd Nov ] - More...   283.0   158.789505   \n",
            "xCBO - USP Masterclass Cold [ 7th Dec ] - Highe...   103.0   131.678058   \n",
            "\n",
            "                                                            std     min  \\\n",
            "campaign_name                                                             \n",
            "CBO - USP Masterclass Cold [ 15th Dec ] - Highe...  1043.591262    0.00   \n",
            "CBO - USP Masterclass Cold [ 15th Dec ] - More ...   455.266078    0.00   \n",
            "CBO - USP Masterclass Cold [ 23rd Nov ] - Highe...   375.277574    0.00   \n",
            "CBO - USP Masterclass Cold [ 23rd Nov ] - More ...   882.899434    0.00   \n",
            "USP Masterclass Cold [ 14th Dec ] - Link Click Ad    123.555850   20.47   \n",
            "USP Masterclass Cold [ 23rd Nov ] - More volume...   475.152049    0.00   \n",
            "USP Masterclass Cold [ 31st Oct ] - Higher Inte...   226.840324    0.00   \n",
            "USP Masterclass Cold [ 31st Oct ] - More Volume...   338.996908    0.00   \n",
            "USP Masterclass Cold [ 31st Oct ] - More volume...   227.329487    0.00   \n",
            "USP Study Abroad_Generic_240224                     1149.110377    0.00   \n",
            "USP_2_Lead-gen-1_220124                              821.209613    0.00   \n",
            "USP_2_Lead-gen-2_Top4-states_050424                  908.929202    0.00   \n",
            "USP_COOP-Drexel_More_Volume_No Logic_India_240124    426.093160    0.00   \n",
            "USP_MS + Coop Campaign_240224                       2605.099538    0.00   \n",
            "USP_Marketing+MBA_New Leads Campaign_240224         2153.056683    0.31   \n",
            "USP_Program_Higher Intent_No Logic_India_220124      333.650191    0.00   \n",
            "USP_Program_Higher Intent_No Logic_South-states...   281.833269    0.01   \n",
            "USP_Program_Lead-gen_2_Generic_140223                347.641379    0.00   \n",
            "USP_Program_Lead-gen_3_Co-op_140223                  454.429023    0.00   \n",
            "USP_Program_Lead-gen_4_MAR&MBA_140223                527.324000    0.21   \n",
            "USP_Program_More-Volume_No Logic_India_220124        367.988403    0.00   \n",
            "USP_Program_More-Volume_No Logic_South-states_2...   501.686762    0.00   \n",
            "USP_Program_More-volume_With-Logic_India_220124      213.685012    0.00   \n",
            "USP_Program_More-volume_With-Logic_South-states...   297.219915    0.00   \n",
            "USP_Search_APTNTSKA_250124                          5611.016548    7.51   \n",
            "USP_Search_India-ex-APTNTSKA_250124                 2282.896548   11.43   \n",
            "USP_Video_ALL-India_Lead-Gen_Keywords_110324         858.797921  190.07   \n",
            "USP_Video_APTLTSKA_Lead-Gen_160224                  1958.748622    7.33   \n",
            "USP_Video_APTLTSKA_Lead-Gen_Custom-intent_050324     905.349206   74.33   \n",
            "USP_Video_APTLTSKA_Lead-Gen_Keywords_050324         1620.719453   25.11   \n",
            "USP_Video_APTLTSKA_Lead-Gen_Websites_050324         1086.659345   10.57   \n",
            "USP_Video_India_EX-APTLTSKA_Lead-Gen_160224         1261.559366    3.47   \n",
            "USP_Video_More_Volume_No Logic_India_New Link        543.720065    0.00   \n",
            "USP_Webinar2_270324                                 1003.086430    0.00   \n",
            "USP_Webinar_070324                                  2934.915698    0.00   \n",
            "US_Pathway_2_Lead_gen_1_091123                      2314.451335    0.00   \n",
            "US_Pathway_2_Lead_gen_2_091123                      2113.764129    0.00   \n",
            "US_Pathway_2_Lead_gen_3_241123                      1996.733908    0.00   \n",
            "US_Pathway_2_Lead_gen_4_220324                       394.871466    0.00   \n",
            "xCBO - USP Masterclass Cold [ 23rd Nov ] - More...   478.330682    0.00   \n",
            "xCBO - USP Masterclass Cold [ 7th Dec ] - Highe...   375.794816    0.00   \n",
            "\n",
            "                                                          25%       50%  \\\n",
            "campaign_name                                                             \n",
            "CBO - USP Masterclass Cold [ 15th Dec ] - Highe...     0.7100     4.510   \n",
            "CBO - USP Masterclass Cold [ 15th Dec ] - More ...     0.6075     4.425   \n",
            "CBO - USP Masterclass Cold [ 23rd Nov ] - Highe...     2.2000    14.170   \n",
            "CBO - USP Masterclass Cold [ 23rd Nov ] - More ...     0.5125     5.705   \n",
            "USP Masterclass Cold [ 14th Dec ] - Link Click Ad     50.6750    84.360   \n",
            "USP Masterclass Cold [ 23rd Nov ] - More volume...     3.1450    18.530   \n",
            "USP Masterclass Cold [ 31st Oct ] - Higher Inte...     3.1400    17.770   \n",
            "USP Masterclass Cold [ 31st Oct ] - More Volume...     1.6000    11.620   \n",
            "USP Masterclass Cold [ 31st Oct ] - More volume...     1.8625    11.335   \n",
            "USP Study Abroad_Generic_240224                        8.8750    54.920   \n",
            "USP_2_Lead-gen-1_220124                                3.1600    28.965   \n",
            "USP_2_Lead-gen-2_Top4-states_050424                    4.7700    17.070   \n",
            "USP_COOP-Drexel_More_Volume_No Logic_India_240124      8.3400    79.190   \n",
            "USP_MS + Coop Campaign_240224                          9.7800   173.630   \n",
            "USP_Marketing+MBA_New Leads Campaign_240224          118.0200   459.120   \n",
            "USP_Program_Higher Intent_No Logic_India_220124       46.5700   127.400   \n",
            "USP_Program_Higher Intent_No Logic_South-states...    19.5675    70.030   \n",
            "USP_Program_Lead-gen_2_Generic_140223                  7.6000    29.645   \n",
            "USP_Program_Lead-gen_3_Co-op_140223                    8.8550    68.460   \n",
            "USP_Program_Lead-gen_4_MAR&MBA_140223                 82.6750   194.165   \n",
            "USP_Program_More-Volume_No Logic_India_220124          1.9500    23.440   \n",
            "USP_Program_More-Volume_No Logic_South-states_2...     5.9250    35.910   \n",
            "USP_Program_More-volume_With-Logic_India_220124        1.5200    16.500   \n",
            "USP_Program_More-volume_With-Logic_South-states...     3.0450    16.380   \n",
            "USP_Search_APTNTSKA_250124                          2679.8300  5068.990   \n",
            "USP_Search_India-ex-APTNTSKA_250124                 1445.5400  2437.150   \n",
            "USP_Video_ALL-India_Lead-Gen_Keywords_110324         453.7125  1121.010   \n",
            "USP_Video_APTLTSKA_Lead-Gen_160224                   414.2950  1015.990   \n",
            "USP_Video_APTLTSKA_Lead-Gen_Custom-intent_050324     698.9175  1482.095   \n",
            "USP_Video_APTLTSKA_Lead-Gen_Keywords_050324          303.2825   782.505   \n",
            "USP_Video_APTLTSKA_Lead-Gen_Websites_050324           94.9625   268.450   \n",
            "USP_Video_India_EX-APTLTSKA_Lead-Gen_160224          445.1650   818.670   \n",
            "USP_Video_More_Volume_No Logic_India_New Link          2.0125    33.170   \n",
            "USP_Webinar2_270324                                   38.4200   375.440   \n",
            "USP_Webinar_070324                                    81.6825   357.785   \n",
            "US_Pathway_2_Lead_gen_1_091123                       107.0700   632.350   \n",
            "US_Pathway_2_Lead_gen_2_091123                        89.9300   560.110   \n",
            "US_Pathway_2_Lead_gen_3_241123                        88.5825   535.830   \n",
            "US_Pathway_2_Lead_gen_4_220324                       160.0675   372.425   \n",
            "xCBO - USP Masterclass Cold [ 23rd Nov ] - More...     0.1750     2.920   \n",
            "xCBO - USP Masterclass Cold [ 7th Dec ] - Highe...     1.8900     9.230   \n",
            "\n",
            "                                                          75%       max  \n",
            "campaign_name                                                            \n",
            "CBO - USP Masterclass Cold [ 15th Dec ] - Highe...    34.3050   5926.98  \n",
            "CBO - USP Masterclass Cold [ 15th Dec ] - More ...    27.2975   3066.55  \n",
            "CBO - USP Masterclass Cold [ 23rd Nov ] - Highe...    67.8200   4230.22  \n",
            "CBO - USP Masterclass Cold [ 23rd Nov ] - More ...    50.9750   5925.41  \n",
            "USP Masterclass Cold [ 14th Dec ] - Link Click Ad    159.6575    623.74  \n",
            "USP Masterclass Cold [ 23rd Nov ] - More volume...   102.6650   3464.36  \n",
            "USP Masterclass Cold [ 31st Oct ] - Higher Inte...    95.4900   2063.49  \n",
            "USP Masterclass Cold [ 31st Oct ] - More Volume...    58.7800   2526.07  \n",
            "USP Masterclass Cold [ 31st Oct ] - More volume...    60.6975   1736.20  \n",
            "USP Study Abroad_Generic_240224                      277.6500  11894.34  \n",
            "USP_2_Lead-gen-1_220124                              300.8325   5821.77  \n",
            "USP_2_Lead-gen-2_Top4-states_050424                   62.2500   6817.89  \n",
            "USP_COOP-Drexel_More_Volume_No Logic_India_240124    332.2450   1838.37  \n",
            "USP_MS + Coop Campaign_240224                       1157.6500  23593.24  \n",
            "USP_Marketing+MBA_New Leads Campaign_240224         1307.1200  14150.11  \n",
            "USP_Program_Higher Intent_No Logic_India_220124      415.8425   1659.05  \n",
            "USP_Program_Higher Intent_No Logic_South-states...   202.4050   2253.54  \n",
            "USP_Program_Lead-gen_2_Generic_140223                111.7975   2431.98  \n",
            "USP_Program_Lead-gen_3_Co-op_140223                  293.5450   3481.57  \n",
            "USP_Program_Lead-gen_4_MAR&MBA_140223                407.4950   2904.83  \n",
            "USP_Program_More-Volume_No Logic_India_220124        155.4400   2445.71  \n",
            "USP_Program_More-Volume_No Logic_South-states_2...   361.8300   3316.03  \n",
            "USP_Program_More-volume_With-Logic_India_220124      134.7200   1170.26  \n",
            "USP_Program_More-volume_With-Logic_South-states...   143.1800   1739.43  \n",
            "USP_Search_APTNTSKA_250124                          9971.2600  27125.36  \n",
            "USP_Search_India-ex-APTNTSKA_250124                 4241.6925  10092.63  \n",
            "USP_Video_ALL-India_Lead-Gen_Keywords_110324        2061.1625   2521.29  \n",
            "USP_Video_APTLTSKA_Lead-Gen_160224                  1893.2900  10055.15  \n",
            "USP_Video_APTLTSKA_Lead-Gen_Custom-intent_050324    2022.9200   4352.03  \n",
            "USP_Video_APTLTSKA_Lead-Gen_Keywords_050324         2079.4950   5334.25  \n",
            "USP_Video_APTLTSKA_Lead-Gen_Websites_050324          797.8550   4755.80  \n",
            "USP_Video_India_EX-APTLTSKA_Lead-Gen_160224         1498.5050   6842.47  \n",
            "USP_Video_More_Volume_No Logic_India_New Link        485.3275   2040.15  \n",
            "USP_Webinar2_270324                                 1180.5100   5003.27  \n",
            "USP_Webinar_070324                                  1915.1275  14617.74  \n",
            "US_Pathway_2_Lead_gen_1_091123                      1728.0850  27032.78  \n",
            "US_Pathway_2_Lead_gen_2_091123                      1518.2075  19426.60  \n",
            "US_Pathway_2_Lead_gen_3_241123                      1617.9050  22712.16  \n",
            "US_Pathway_2_Lead_gen_4_220324                       610.3825   3549.08  \n",
            "xCBO - USP Masterclass Cold [ 23rd Nov ] - More...    19.5450   2990.51  \n",
            "xCBO - USP Masterclass Cold [ 7th Dec ] - Highe...    45.2450   1790.56  \n"
          ]
        }
      ]
    },
    {
      "cell_type": "code",
      "source": [
        "import matplotlib.pyplot as plt\n",
        "import seaborn as sns\n",
        "\n",
        "plt.figure(figsize=(12, 6))\n",
        "sns.boxplot(x='campaign_name', y='total_spent', data=data)\n",
        "plt.title('Total Spent by Campaign Name')\n",
        "plt.xlabel('Campaign Name')\n",
        "plt.ylabel('Total Spent')\n",
        "plt.show()"
      ],
      "metadata": {
        "colab": {
          "base_uri": "https://localhost:8080/",
          "height": 292
        },
        "id": "flw1c6Ua3MP0",
        "outputId": "d33ce69c-df9a-4c7d-e4bb-92feab536b8f"
      },
      "execution_count": null,
      "outputs": [
        {
          "output_type": "display_data",
          "data": {
            "text/plain": [
              "<Figure size 1200x600 with 1 Axes>"
            ],
            "image/png": "[encoded data removed]"
          },
          "metadata": {}
        }
      ]
    },
    {
      "cell_type": "code",
      "source": [
        "plt.figure(figsize=(12, 6))\n",
        "sns.barplot(x='campaign_name', y='total_spent', data=data, estimator=np.mean, ci=None)\n",
        "plt.title('Mean Total Spent by Campaign Name')\n",
        "plt.xlabel('Campaign Name')\n",
        "plt.ylabel('Mean Total Spent')\n",
        "plt.show()"
      ],
      "metadata": {
        "colab": {
          "base_uri": "https://localhost:8080/",
          "height": 292
        },
        "id": "dXX1z-jC3URT",
        "outputId": "f58d0b20-18fb-4c49-9f06-2171d40a6141"
      },
      "execution_count": null,
      "outputs": [
        {
          "output_type": "display_data",
          "data": {
            "text/plain": [
              "<Figure size 1200x600 with 1 Axes>"
            ],
            "image/png": "[encoded data removed]"
          },
          "metadata": {}
        }
      ]
    },
    {
      "cell_type": "code",
      "source": [
        "import scipy.stats as stats\n",
        "\n",
        "# Perform ANOVA\n",
        "anova_result = stats.f_oneway(*[data[data['campaign_name'] == campaign]['total_spent'] for campaign in data['campaign_name'].unique()])\n",
        "print('ANOVA result:', anova_result)"
      ],
      "metadata": {
        "colab": {
          "base_uri": "https://localhost:8080/"
        },
        "id": "lUgkgmf93kIn",
        "outputId": "32da56e4-59ab-4d61-ebd6-7d8a7b97f398"
      },
      "execution_count": null,
      "outputs": [
        {
          "output_type": "stream",
          "name": "stdout",
          "text": [
            "ANOVA result: F_onewayResult(statistic=159.95489835473268, pvalue=0.0)\n"
          ]
        }
      ]
    },
    {
      "cell_type": "code",
      "source": [
        "from sklearn.model_selection import train_test_split\n",
        "from sklearn.ensemble import RandomForestRegressor\n",
        "from sklearn.metrics import mean_squared_error\n",
        "from sklearn.preprocessing import LabelEncoder\n",
        "\n",
        "# Encode categorical variables\n",
        "data['campaign_name'] = LabelEncoder().fit_transform(data['campaign_name'])\n",
        "data['platform'] = LabelEncoder().fit_transform(data['platform'])"
      ],
      "metadata": {
        "id": "xLDYnEyi6VNe"
      },
      "execution_count": null,
      "outputs": []
    },
    {
      "cell_type": "code",
      "source": [
        "# Define features and target\n",
        "features = data.drop(columns=['total_spent', 'campaign_start_date'])\n",
        "target = data['total_spent']\n",
        "\n",
        "# Split data into training and testing sets\n",
        "X_train, X_test, y_train, y_test = train_test_split(features, target, test_size=0.2, random_state=42)\n",
        "\n",
        "# Train a Random Forest model\n",
        "model = RandomForestRegressor(random_state=42)\n",
        "model.fit(X_train, y_train)\n",
        "\n",
        "# Predict and evaluate the model\n",
        "y_pred = model.predict(X_test)\n",
        "print(f'Mean Squared Error: {mean_squared_error(y_test, y_pred)}')\n",
        "\n",
        "# Feature importance\n",
        "feature_importances = pd.DataFrame(model.feature_importances_, index=features.columns, columns=['importance']).sort_values('importance', ascending=False)\n",
        "print(feature_importances)"
      ],
      "metadata": {
        "colab": {
          "base_uri": "https://localhost:8080/",
          "height": 391
        },
        "id": "YN_Mf4A76fsN",
        "outputId": "6ec6d992-a6d1-4653-f370-cf6d9ede3870"
      },
      "execution_count": null,
      "outputs": [
        {
          "output_type": "error",
          "ename": "TypeError",
          "evalue": "float() argument must be a string or a real number, not 'Timestamp'",
          "traceback": [
            "\u001b[0;31m---------------------------------------------------------------------------\u001b[0m",
            "\u001b[0;31mTypeError\u001b[0m                                 Traceback (most recent call last)",
            "\u001b[0;32m<ipython-input-25-9ff6e07b5d46>\u001b[0m in \u001b[0;36m<cell line: 10>\u001b[0;34m()\u001b[0m\n\u001b[1;32m      8\u001b[0m \u001b[0;31m# Train a Random Forest model\u001b[0m\u001b[0;34m\u001b[0m\u001b[0;34m\u001b[0m\u001b[0m\n\u001b[1;32m      9\u001b[0m \u001b[0mmodel\u001b[0m \u001b[0;34m=\u001b[0m \u001b[0mRandomForestRegressor\u001b[0m\u001b[0;34m(\u001b[0m\u001b[0mrandom_state\u001b[0m\u001b[0;34m=\u001b[0m\u001b[0;36m42\u001b[0m\u001b[0;34m)\u001b[0m\u001b[0;34m\u001b[0m\u001b[0;34m\u001b[0m\u001b[0m\n\u001b[0;32m---> 10\u001b[0;31m \u001b[0mmodel\u001b[0m\u001b[0;34m.\u001b[0m\u001b[0mfit\u001b[0m\u001b[0;34m(\u001b[0m\u001b[0mX_train\u001b[0m\u001b[0;34m,\u001b[0m \u001b[0my_train\u001b[0m\u001b[0;34m)\u001b[0m\u001b[0;34m\u001b[0m\u001b[0;34m\u001b[0m\u001b[0m\n\u001b[0m\u001b[1;32m     11\u001b[0m \u001b[0;34m\u001b[0m\u001b[0m\n\u001b[1;32m     12\u001b[0m \u001b[0;31m# Predict and evaluate the model\u001b[0m\u001b[0;34m\u001b[0m\u001b[0;34m\u001b[0m\u001b[0m\n",
            "\u001b[0;32m/usr/local/lib/python3.10/dist-packages/sklearn/ensemble/_forest.py\u001b[0m in \u001b[0;36mfit\u001b[0;34m(self, X, y, sample_weight)\u001b[0m\n\u001b[1;32m    343\u001b[0m         \u001b[0;32mif\u001b[0m \u001b[0missparse\u001b[0m\u001b[0;34m(\u001b[0m\u001b[0my\u001b[0m\u001b[0;34m)\u001b[0m\u001b[0;34m:\u001b[0m\u001b[0;34m\u001b[0m\u001b[0;34m\u001b[0m\u001b[0m\n\u001b[1;32m    344\u001b[0m             \u001b[0;32mraise\u001b[0m \u001b[0mValueError\u001b[0m\u001b[0;34m(\u001b[0m\u001b[0;34m\"sparse multilabel-indicator for y is not supported.\"\u001b[0m\u001b[0;34m)\u001b[0m\u001b[0;34m\u001b[0m\u001b[0;34m\u001b[0m\u001b[0m\n\u001b[0;32m--> 345\u001b[0;31m         X, y = self._validate_data(\n\u001b[0m\u001b[1;32m    346\u001b[0m             \u001b[0mX\u001b[0m\u001b[0;34m,\u001b[0m \u001b[0my\u001b[0m\u001b[0;34m,\u001b[0m \u001b[0mmulti_output\u001b[0m\u001b[0;34m=\u001b[0m\u001b[0;32mTrue\u001b[0m\u001b[0;34m,\u001b[0m \u001b[0maccept_sparse\u001b[0m\u001b[0;34m=\u001b[0m\u001b[0;34m\"csc\"\u001b[0m\u001b[0;34m,\u001b[0m \u001b[0mdtype\u001b[0m\u001b[0;34m=\u001b[0m\u001b[0mDTYPE\u001b[0m\u001b[0;34m\u001b[0m\u001b[0;34m\u001b[0m\u001b[0m\n\u001b[1;32m    347\u001b[0m         )\n",
            "\u001b[0;32m/usr/local/lib/python3.10/dist-packages/sklearn/base.py\u001b[0m in \u001b[0;36m_validate_data\u001b[0;34m(self, X, y, reset, validate_separately, **check_params)\u001b[0m\n\u001b[1;32m    582\u001b[0m                 \u001b[0my\u001b[0m \u001b[0;34m=\u001b[0m \u001b[0mcheck_array\u001b[0m\u001b[0;34m(\u001b[0m\u001b[0my\u001b[0m\u001b[0;34m,\u001b[0m \u001b[0minput_name\u001b[0m\u001b[0;34m=\u001b[0m\u001b[0;34m\"y\"\u001b[0m\u001b[0;34m,\u001b[0m \u001b[0;34m**\u001b[0m\u001b[0mcheck_y_params\u001b[0m\u001b[0;34m)\u001b[0m\u001b[0;34m\u001b[0m\u001b[0;34m\u001b[0m\u001b[0m\n\u001b[1;32m    583\u001b[0m             \u001b[0;32melse\u001b[0m\u001b[0;34m:\u001b[0m\u001b[0;34m\u001b[0m\u001b[0;34m\u001b[0m\u001b[0m\n\u001b[0;32m--> 584\u001b[0;31m                 \u001b[0mX\u001b[0m\u001b[0;34m,\u001b[0m \u001b[0my\u001b[0m \u001b[0;34m=\u001b[0m \u001b[0mcheck_X_y\u001b[0m\u001b[0;34m(\u001b[0m\u001b[0mX\u001b[0m\u001b[0;34m,\u001b[0m \u001b[0my\u001b[0m\u001b[0;34m,\u001b[0m \u001b[0;34m**\u001b[0m\u001b[0mcheck_params\u001b[0m\u001b[0;34m)\u001b[0m\u001b[0;34m\u001b[0m\u001b[0;34m\u001b[0m\u001b[0m\n\u001b[0m\u001b[1;32m    585\u001b[0m             \u001b[0mout\u001b[0m \u001b[0;34m=\u001b[0m \u001b[0mX\u001b[0m\u001b[0;34m,\u001b[0m \u001b[0my\u001b[0m\u001b[0;34m\u001b[0m\u001b[0;34m\u001b[0m\u001b[0m\n\u001b[1;32m    586\u001b[0m \u001b[0;34m\u001b[0m\u001b[0m\n",
            "\u001b[0;32m/usr/local/lib/python3.10/dist-packages/sklearn/utils/validation.py\u001b[0m in \u001b[0;36mcheck_X_y\u001b[0;34m(X, y, accept_sparse, accept_large_sparse, dtype, order, copy, force_all_finite, ensure_2d, allow_nd, multi_output, ensure_min_samples, ensure_min_features, y_numeric, estimator)\u001b[0m\n\u001b[1;32m   1104\u001b[0m         )\n\u001b[1;32m   1105\u001b[0m \u001b[0;34m\u001b[0m\u001b[0m\n\u001b[0;32m-> 1106\u001b[0;31m     X = check_array(\n\u001b[0m\u001b[1;32m   1107\u001b[0m         \u001b[0mX\u001b[0m\u001b[0;34m,\u001b[0m\u001b[0;34m\u001b[0m\u001b[0;34m\u001b[0m\u001b[0m\n\u001b[1;32m   1108\u001b[0m         \u001b[0maccept_sparse\u001b[0m\u001b[0;34m=\u001b[0m\u001b[0maccept_sparse\u001b[0m\u001b[0;34m,\u001b[0m\u001b[0;34m\u001b[0m\u001b[0;34m\u001b[0m\u001b[0m\n",
            "\u001b[0;32m/usr/local/lib/python3.10/dist-packages/sklearn/utils/validation.py\u001b[0m in \u001b[0;36mcheck_array\u001b[0;34m(array, accept_sparse, accept_large_sparse, dtype, order, copy, force_all_finite, ensure_2d, allow_nd, ensure_min_samples, ensure_min_features, estimator, input_name)\u001b[0m\n\u001b[1;32m    877\u001b[0m                     \u001b[0marray\u001b[0m \u001b[0;34m=\u001b[0m \u001b[0mxp\u001b[0m\u001b[0;34m.\u001b[0m\u001b[0mastype\u001b[0m\u001b[0;34m(\u001b[0m\u001b[0marray\u001b[0m\u001b[0;34m,\u001b[0m \u001b[0mdtype\u001b[0m\u001b[0;34m,\u001b[0m \u001b[0mcopy\u001b[0m\u001b[0;34m=\u001b[0m\u001b[0;32mFalse\u001b[0m\u001b[0;34m)\u001b[0m\u001b[0;34m\u001b[0m\u001b[0;34m\u001b[0m\u001b[0m\n\u001b[1;32m    878\u001b[0m                 \u001b[0;32melse\u001b[0m\u001b[0;34m:\u001b[0m\u001b[0;34m\u001b[0m\u001b[0;34m\u001b[0m\u001b[0m\n\u001b[0;32m--> 879\u001b[0;31m                     \u001b[0marray\u001b[0m \u001b[0;34m=\u001b[0m \u001b[0m_asarray_with_order\u001b[0m\u001b[0;34m(\u001b[0m\u001b[0marray\u001b[0m\u001b[0;34m,\u001b[0m \u001b[0morder\u001b[0m\u001b[0;34m=\u001b[0m\u001b[0morder\u001b[0m\u001b[0;34m,\u001b[0m \u001b[0mdtype\u001b[0m\u001b[0;34m=\u001b[0m\u001b[0mdtype\u001b[0m\u001b[0;34m,\u001b[0m \u001b[0mxp\u001b[0m\u001b[0;34m=\u001b[0m\u001b[0mxp\u001b[0m\u001b[0;34m)\u001b[0m\u001b[0;34m\u001b[0m\u001b[0;34m\u001b[0m\u001b[0m\n\u001b[0m\u001b[1;32m    880\u001b[0m             \u001b[0;32mexcept\u001b[0m \u001b[0mComplexWarning\u001b[0m \u001b[0;32mas\u001b[0m \u001b[0mcomplex_warning\u001b[0m\u001b[0;34m:\u001b[0m\u001b[0;34m\u001b[0m\u001b[0;34m\u001b[0m\u001b[0m\n\u001b[1;32m    881\u001b[0m                 raise ValueError(\n",
            "\u001b[0;32m/usr/local/lib/python3.10/dist-packages/sklearn/utils/_array_api.py\u001b[0m in \u001b[0;36m_asarray_with_order\u001b[0;34m(array, dtype, order, copy, xp)\u001b[0m\n\u001b[1;32m    183\u001b[0m     \u001b[0;32mif\u001b[0m \u001b[0mxp\u001b[0m\u001b[0;34m.\u001b[0m\u001b[0m__name__\u001b[0m \u001b[0;32min\u001b[0m \u001b[0;34m{\u001b[0m\u001b[0;34m\"numpy\"\u001b[0m\u001b[0;34m,\u001b[0m \u001b[0;34m\"numpy.array_api\"\u001b[0m\u001b[0;34m}\u001b[0m\u001b[0;34m:\u001b[0m\u001b[0;34m\u001b[0m\u001b[0;34m\u001b[0m\u001b[0m\n\u001b[1;32m    184\u001b[0m         \u001b[0;31m# Use NumPy API to support order\u001b[0m\u001b[0;34m\u001b[0m\u001b[0;34m\u001b[0m\u001b[0m\n\u001b[0;32m--> 185\u001b[0;31m         \u001b[0marray\u001b[0m \u001b[0;34m=\u001b[0m \u001b[0mnumpy\u001b[0m\u001b[0;34m.\u001b[0m\u001b[0masarray\u001b[0m\u001b[0;34m(\u001b[0m\u001b[0marray\u001b[0m\u001b[0;34m,\u001b[0m \u001b[0morder\u001b[0m\u001b[0;34m=\u001b[0m\u001b[0morder\u001b[0m\u001b[0;34m,\u001b[0m \u001b[0mdtype\u001b[0m\u001b[0;34m=\u001b[0m\u001b[0mdtype\u001b[0m\u001b[0;34m)\u001b[0m\u001b[0;34m\u001b[0m\u001b[0;34m\u001b[0m\u001b[0m\n\u001b[0m\u001b[1;32m    186\u001b[0m         \u001b[0;32mreturn\u001b[0m \u001b[0mxp\u001b[0m\u001b[0;34m.\u001b[0m\u001b[0masarray\u001b[0m\u001b[0;34m(\u001b[0m\u001b[0marray\u001b[0m\u001b[0;34m,\u001b[0m \u001b[0mcopy\u001b[0m\u001b[0;34m=\u001b[0m\u001b[0mcopy\u001b[0m\u001b[0;34m)\u001b[0m\u001b[0;34m\u001b[0m\u001b[0;34m\u001b[0m\u001b[0m\n\u001b[1;32m    187\u001b[0m     \u001b[0;32melse\u001b[0m\u001b[0;34m:\u001b[0m\u001b[0;34m\u001b[0m\u001b[0;34m\u001b[0m\u001b[0m\n",
            "\u001b[0;32m/usr/local/lib/python3.10/dist-packages/pandas/core/generic.py\u001b[0m in \u001b[0;36m__array__\u001b[0;34m(self, dtype)\u001b[0m\n\u001b[1;32m   1996\u001b[0m     \u001b[0;32mdef\u001b[0m \u001b[0m__array__\u001b[0m\u001b[0;34m(\u001b[0m\u001b[0mself\u001b[0m\u001b[0;34m,\u001b[0m \u001b[0mdtype\u001b[0m\u001b[0;34m:\u001b[0m \u001b[0mnpt\u001b[0m\u001b[0;34m.\u001b[0m\u001b[0mDTypeLike\u001b[0m \u001b[0;34m|\u001b[0m \u001b[0;32mNone\u001b[0m \u001b[0;34m=\u001b[0m \u001b[0;32mNone\u001b[0m\u001b[0;34m)\u001b[0m \u001b[0;34m->\u001b[0m \u001b[0mnp\u001b[0m\u001b[0;34m.\u001b[0m\u001b[0mndarray\u001b[0m\u001b[0;34m:\u001b[0m\u001b[0;34m\u001b[0m\u001b[0;34m\u001b[0m\u001b[0m\n\u001b[1;32m   1997\u001b[0m         \u001b[0mvalues\u001b[0m \u001b[0;34m=\u001b[0m \u001b[0mself\u001b[0m\u001b[0;34m.\u001b[0m\u001b[0m_values\u001b[0m\u001b[0;34m\u001b[0m\u001b[0;34m\u001b[0m\u001b[0m\n\u001b[0;32m-> 1998\u001b[0;31m         \u001b[0marr\u001b[0m \u001b[0;34m=\u001b[0m \u001b[0mnp\u001b[0m\u001b[0;34m.\u001b[0m\u001b[0masarray\u001b[0m\u001b[0;34m(\u001b[0m\u001b[0mvalues\u001b[0m\u001b[0;34m,\u001b[0m \u001b[0mdtype\u001b[0m\u001b[0;34m=\u001b[0m\u001b[0mdtype\u001b[0m\u001b[0;34m)\u001b[0m\u001b[0;34m\u001b[0m\u001b[0;34m\u001b[0m\u001b[0m\n\u001b[0m\u001b[1;32m   1999\u001b[0m         if (\n\u001b[1;32m   2000\u001b[0m             \u001b[0mastype_is_view\u001b[0m\u001b[0;34m(\u001b[0m\u001b[0mvalues\u001b[0m\u001b[0;34m.\u001b[0m\u001b[0mdtype\u001b[0m\u001b[0;34m,\u001b[0m \u001b[0marr\u001b[0m\u001b[0;34m.\u001b[0m\u001b[0mdtype\u001b[0m\u001b[0;34m)\u001b[0m\u001b[0;34m\u001b[0m\u001b[0;34m\u001b[0m\u001b[0m\n",
            "\u001b[0;31mTypeError\u001b[0m: float() argument must be a string or a real number, not 'Timestamp'"
          ]
        }
      ]
    }
  ]
}